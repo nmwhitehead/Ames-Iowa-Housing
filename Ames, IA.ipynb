{
 "cells": [
  {
   "cell_type": "code",
   "execution_count": 1,
   "metadata": {},
   "outputs": [],
   "source": [
    "import pandas as pd\n",
    "import numpy as np\n",
    "import matplotlib.pyplot as plt\n",
    "import seaborn as sns\n",
    "import math\n",
    "from sklearn.linear_model import LinearRegression, Ridge, RidgeCV, Lasso, LassoCV\n",
    "from sklearn import metrics\n",
    "from sklearn.neighbors import KNeighborsClassifier\n",
    "from sklearn.model_selection import train_test_split, cross_val_score\n",
    "from sklearn.preprocessing import StandardScaler, PowerTransformer, FunctionTransformer, Normalizer\n",
    "from sklearn.metrics import r2_score"
   ]
  },
  {
   "cell_type": "code",
   "execution_count": 2,
   "metadata": {},
   "outputs": [],
   "source": [
    "# pd.options.display.max_rows = 999"
   ]
  },
  {
   "cell_type": "code",
   "execution_count": 3,
   "metadata": {},
   "outputs": [],
   "source": [
    "train = pd.read_csv('./datasets/train.csv')"
   ]
  },
  {
   "cell_type": "code",
   "execution_count": 4,
   "metadata": {},
   "outputs": [],
   "source": [
    "test = pd.read_csv('datasets/test.csv')"
   ]
  },
  {
   "cell_type": "code",
   "execution_count": 5,
   "metadata": {},
   "outputs": [],
   "source": [
    "train_sale = pd.DataFrame(train['SalePrice'])\n",
    "\n",
    "for c in train:\n",
    "    if c != 'SalesPrice':\n",
    "        train_sale[c] = train[c]\n",
    "        \n",
    "train = train_sale"
   ]
  },
  {
   "cell_type": "markdown",
   "metadata": {},
   "source": [
    "# ^ DO NOT REMOVE THESE ^"
   ]
  },
  {
   "cell_type": "code",
   "execution_count": null,
   "metadata": {},
   "outputs": [],
   "source": []
  },
  {
   "cell_type": "markdown",
   "metadata": {},
   "source": [
    "# THE BELOW SECTIONS ARE CLEANING THE DATA"
   ]
  },
  {
   "cell_type": "code",
   "execution_count": 6,
   "metadata": {},
   "outputs": [
    {
     "data": {
      "text/plain": [
       "count      2051.000000\n",
       "mean      10065.208191\n",
       "std        6742.488909\n",
       "min        1300.000000\n",
       "25%        7500.000000\n",
       "50%        9430.000000\n",
       "75%       11513.500000\n",
       "max      159000.000000\n",
       "Name: Lot Area, dtype: float64"
      ]
     },
     "execution_count": 6,
     "metadata": {},
     "output_type": "execute_result"
    }
   ],
   "source": [
    "train['Lot Area'].describe()"
   ]
  },
  {
   "cell_type": "code",
   "execution_count": null,
   "metadata": {},
   "outputs": [],
   "source": []
  },
  {
   "cell_type": "code",
   "execution_count": 7,
   "metadata": {},
   "outputs": [],
   "source": [
    "# train.drop(['Id'], 2181)"
   ]
  },
  {
   "cell_type": "code",
   "execution_count": null,
   "metadata": {},
   "outputs": [],
   "source": []
  },
  {
   "cell_type": "code",
   "execution_count": 8,
   "metadata": {},
   "outputs": [],
   "source": [
    "train['Garage Area'] = train['Garage Area'].fillna(0)\n",
    "train['Garage Cars'] = train['Garage Cars'].fillna(0)\n",
    "\n",
    "# The one null is removed from each.\n",
    "# Does not need to be repeated for test set."
   ]
  },
  {
   "cell_type": "code",
   "execution_count": null,
   "metadata": {},
   "outputs": [],
   "source": []
  },
  {
   "cell_type": "code",
   "execution_count": 107,
   "metadata": {},
   "outputs": [],
   "source": [
    "train['Garage Yr Blt'] = train['Garage Yr Blt'].fillna(train['Garage Yr Blt'].mean())"
   ]
  },
  {
   "cell_type": "code",
   "execution_count": 108,
   "metadata": {},
   "outputs": [],
   "source": [
    "test['Garage Yr Blt'] = test['Garage Yr Blt'].fillna(test['Garage Yr Blt'].mean())"
   ]
  },
  {
   "cell_type": "code",
   "execution_count": null,
   "metadata": {},
   "outputs": [],
   "source": []
  },
  {
   "cell_type": "code",
   "execution_count": 9,
   "metadata": {},
   "outputs": [],
   "source": [
    "train['Bsmt Cond'] = train['Bsmt Cond'].fillna(0)\n",
    "train['Bsmt Cond Po'] = pd.get_dummies(train, columns=['Bsmt Cond'])['Bsmt Cond_Po']\n",
    "train['Bsmt Cond Fa'] = pd.get_dummies(train, columns=['Bsmt Cond'])['Bsmt Cond_Fa']\n",
    "train['Bsmt Cond TA'] = pd.get_dummies(train, columns=['Bsmt Cond'])['Bsmt Cond_TA']\n",
    "train['Bsmt Cond Gd'] = pd.get_dummies(train, columns=['Bsmt Cond'])['Bsmt Cond_Gd']\n",
    "train['Bsmt Cond Ex'] = pd.get_dummies(train, columns=['Bsmt Cond'])['Bsmt Cond_Ex']\n",
    "\n",
    "\n",
    "test['Bsmt Cond'] = test['Bsmt Cond'].fillna(0)\n",
    "# test['Bsmt Cond Po'] = pd.get_dummies(test, columns=['Bsmt Cond'])['Bsmt Cond_Po']\n",
    "test['Bsmt Cond Fa'] = pd.get_dummies(test, columns=['Bsmt Cond'])['Bsmt Cond_Fa']\n",
    "test['Bsmt Cond TA'] = pd.get_dummies(test, columns=['Bsmt Cond'])['Bsmt Cond_TA']\n",
    "test['Bsmt Cond Gd'] = pd.get_dummies(test, columns=['Bsmt Cond'])['Bsmt Cond_Gd']\n",
    "# test['Bsmt Cond Ex'] = pd.get_dummies(test, columns=['Bsmt Cond'])['Bsmt Cond_Ex']\n",
    "\n",
    "\n",
    "# This removes nulls and gives rating numerical values for basement quaility."
   ]
  },
  {
   "cell_type": "code",
   "execution_count": null,
   "metadata": {},
   "outputs": [],
   "source": []
  },
  {
   "cell_type": "code",
   "execution_count": 10,
   "metadata": {},
   "outputs": [],
   "source": [
    "train['Kitchen Qual Fa'] = pd.get_dummies(train['Kitchen Qual'])['Fa']\n",
    "train['Kitchen Qual TA'] = pd.get_dummies(train['Kitchen Qual'])['TA']\n",
    "train['Kitchen Qual Gd'] = pd.get_dummies(train['Kitchen Qual'])['Gd']\n",
    "train['Kitchen Qual Ex'] = pd.get_dummies(train['Kitchen Qual'])['Ex']\n",
    "\n",
    "test['Kitchen Qual Fa'] = pd.get_dummies(test['Kitchen Qual'])['Fa']\n",
    "test['Kitchen Qual TA'] = pd.get_dummies(test['Kitchen Qual'])['TA']\n",
    "test['Kitchen Qual Gd'] = pd.get_dummies(test['Kitchen Qual'])['Gd']\n",
    "test['Kitchen Qual Ex'] = pd.get_dummies(test['Kitchen Qual'])['Ex']"
   ]
  },
  {
   "cell_type": "code",
   "execution_count": null,
   "metadata": {},
   "outputs": [],
   "source": []
  },
  {
   "cell_type": "code",
   "execution_count": null,
   "metadata": {},
   "outputs": [],
   "source": []
  },
  {
   "cell_type": "code",
   "execution_count": null,
   "metadata": {},
   "outputs": [],
   "source": []
  },
  {
   "cell_type": "code",
   "execution_count": 11,
   "metadata": {},
   "outputs": [],
   "source": [
    "train['Exter Qual Fa'] = pd.get_dummies(train['Exter Qual'])['Fa']\n",
    "train['Exter Qual TA'] = pd.get_dummies(train['Exter Qual'])['TA']\n",
    "train['Exter Qual Gd'] = pd.get_dummies(train['Exter Qual'])['Gd']\n",
    "train['Exter Qual Ex'] = pd.get_dummies(train['Exter Qual'])['Ex']\n",
    "\n",
    "test['Exter Qual Fa'] = pd.get_dummies(test['Exter Qual'])['Fa']\n",
    "test['Exter Qual TA'] = pd.get_dummies(test['Exter Qual'])['TA']\n",
    "test['Exter Qual Gd'] = pd.get_dummies(test['Exter Qual'])['Gd']\n",
    "test['Exter Qual Ex'] = pd.get_dummies(test['Exter Qual'])['Ex']"
   ]
  },
  {
   "cell_type": "code",
   "execution_count": null,
   "metadata": {},
   "outputs": [],
   "source": []
  },
  {
   "cell_type": "code",
   "execution_count": 12,
   "metadata": {},
   "outputs": [],
   "source": [
    "train = pd.get_dummies(train, columns=['Sale Type'], drop_first = True)"
   ]
  },
  {
   "cell_type": "code",
   "execution_count": 13,
   "metadata": {},
   "outputs": [],
   "source": [
    "test = pd.get_dummies(test, columns=['Sale Type'], drop_first = True)"
   ]
  },
  {
   "cell_type": "code",
   "execution_count": null,
   "metadata": {},
   "outputs": [],
   "source": []
  },
  {
   "cell_type": "code",
   "execution_count": 14,
   "metadata": {},
   "outputs": [],
   "source": [
    "train['Quality 2/10'] = pd.get_dummies(train['Overall Qual'])[2]\n",
    "train['Quality 3/10'] = pd.get_dummies(train['Overall Qual'])[3]\n",
    "train['Quality 4/10'] = pd.get_dummies(train['Overall Qual'])[4]\n",
    "train['Quality 5/10'] = pd.get_dummies(train['Overall Qual'])[5]\n",
    "train['Quality 6/10'] = pd.get_dummies(train['Overall Qual'])[6]\n",
    "train['Quality 7/10'] = pd.get_dummies(train['Overall Qual'])[7]\n",
    "train['Quality 8/10'] = pd.get_dummies(train['Overall Qual'])[8]\n",
    "\n",
    "test['Quality 2/10'] = pd.get_dummies(test['Overall Qual'])[2]\n",
    "test['Quality 3/10'] = pd.get_dummies(test['Overall Qual'])[3]\n",
    "test['Quality 4/10'] = pd.get_dummies(test['Overall Qual'])[4]\n",
    "test['Quality 5/10'] = pd.get_dummies(test['Overall Qual'])[5]\n",
    "test['Quality 6/10'] = pd.get_dummies(test['Overall Qual'])[6]\n",
    "test['Quality 7/10'] = pd.get_dummies(test['Overall Qual'])[7]\n",
    "test['Quality 8/10'] = pd.get_dummies(test['Overall Qual'])[8]\n",
    "\n",
    "# Trying to remove 1, 9, and 10 from the way we look at Quality."
   ]
  },
  {
   "cell_type": "code",
   "execution_count": null,
   "metadata": {},
   "outputs": [],
   "source": []
  },
  {
   "cell_type": "code",
   "execution_count": 15,
   "metadata": {},
   "outputs": [],
   "source": [
    "train['Total Bsmt SF'] = train['Total Bsmt SF'].fillna(0)\n",
    "\n",
    "# Null is removed. Repeat for test not needed."
   ]
  },
  {
   "cell_type": "code",
   "execution_count": null,
   "metadata": {},
   "outputs": [],
   "source": []
  },
  {
   "cell_type": "code",
   "execution_count": 16,
   "metadata": {},
   "outputs": [],
   "source": [
    "train['Mas Vnr Area'] = train['Mas Vnr Area'].fillna(0)\n",
    "test['Mas Vnr Area'] = test['Mas Vnr Area'].fillna(0)\n",
    "\n",
    "# Nulls removed from Mas Vnr Area"
   ]
  },
  {
   "cell_type": "code",
   "execution_count": null,
   "metadata": {},
   "outputs": [],
   "source": []
  },
  {
   "cell_type": "code",
   "execution_count": 17,
   "metadata": {},
   "outputs": [],
   "source": [
    "train['Lot Frontage'] = train['Lot Frontage'].fillna(0)\n",
    "test['Lot Frontage'] = test['Lot Frontage'].fillna(0)"
   ]
  },
  {
   "cell_type": "code",
   "execution_count": null,
   "metadata": {},
   "outputs": [],
   "source": []
  },
  {
   "cell_type": "code",
   "execution_count": 18,
   "metadata": {},
   "outputs": [],
   "source": [
    "train['Central Air'] = train['Central Air'].replace(to_replace='N', value=0)\n",
    "train['Central Air'] = train['Central Air'].replace(to_replace='Y', value=1)\n",
    "\n",
    "test['Central Air'] = test['Central Air'].replace(to_replace='N', value=0)\n",
    "test['Central Air'] = test['Central Air'].replace(to_replace='Y', value=1)\n",
    "\n",
    "# Converts Y/N to 1/0 for Central Air."
   ]
  },
  {
   "cell_type": "code",
   "execution_count": null,
   "metadata": {},
   "outputs": [],
   "source": []
  },
  {
   "cell_type": "code",
   "execution_count": 19,
   "metadata": {},
   "outputs": [],
   "source": [
    "train['Fireplace Qu Po'] = pd.get_dummies(train, columns=['Fireplace Qu'])['Fireplace Qu_Po']\n",
    "train['Fireplace Qu Fa'] = pd.get_dummies(train, columns=['Fireplace Qu'])['Fireplace Qu_Fa']\n",
    "train['Fireplace Qu TA'] = pd.get_dummies(train, columns=['Fireplace Qu'])['Fireplace Qu_TA']\n",
    "train['Fireplace Qu Gd'] = pd.get_dummies(train, columns=['Fireplace Qu'])['Fireplace Qu_Gd']\n",
    "train['Fireplace Qu Ex'] = pd.get_dummies(train, columns=['Fireplace Qu'])['Fireplace Qu_Ex']\n",
    "\n",
    "test['Fireplace Qu Po'] = pd.get_dummies(test, columns=['Fireplace Qu'])['Fireplace Qu_Po']\n",
    "test['Fireplace Qu Fa'] = pd.get_dummies(test, columns=['Fireplace Qu'])['Fireplace Qu_Fa']\n",
    "test['Fireplace Qu TA'] = pd.get_dummies(test, columns=['Fireplace Qu'])['Fireplace Qu_TA']\n",
    "test['Fireplace Qu Gd'] = pd.get_dummies(test, columns=['Fireplace Qu'])['Fireplace Qu_Gd']\n",
    "test['Fireplace Qu Ex'] = pd.get_dummies(test, columns=['Fireplace Qu'])['Fireplace Qu_Ex']\n",
    "\n",
    "# This removes nulls and adds values to the Fireplae Quality."
   ]
  },
  {
   "cell_type": "code",
   "execution_count": null,
   "metadata": {},
   "outputs": [],
   "source": []
  },
  {
   "cell_type": "code",
   "execution_count": 20,
   "metadata": {},
   "outputs": [],
   "source": [
    "train['1 Story Home'] = pd.get_dummies(train, columns=['House Style'])['House Style_1Story']\n",
    "train['2 Story Home'] = pd.get_dummies(train, columns=['House Style'])['House Style_2.5Fin']\n",
    "train['1.5Fin Home'] = pd.get_dummies(train, columns=['House Style'])['House Style_1.5Fin']\n",
    "train['1.5Unf Home'] = pd.get_dummies(train, columns=['House Style'])['House Style_1.5Unf']\n",
    "train['SFoyer Home'] = pd.get_dummies(train, columns=['House Style'])['House Style_SFoyer']\n",
    "train['2.5Unf'] = pd.get_dummies(train, columns=['House Style'])['House Style_2.5Unf']\n",
    "train['2.5Fin'] = pd.get_dummies(train, columns=['House Style'])['House Style_2.5Fin']\n",
    "\n",
    "test['1 Story Home'] = pd.get_dummies(test, columns=['House Style'])['House Style_1Story']\n",
    "test['2 Story Home'] = pd.get_dummies(test, columns=['House Style'])['House Style_2.5Fin']\n",
    "test['1.5Fin Home'] = pd.get_dummies(test, columns=['House Style'])['House Style_1.5Fin']\n",
    "test['1.5Unf Home'] = pd.get_dummies(test, columns=['House Style'])['House Style_1.5Unf']\n",
    "test['SFoyer Home'] = pd.get_dummies(test, columns=['House Style'])['House Style_SFoyer']\n",
    "test['2.5Unf'] = pd.get_dummies(test, columns=['House Style'])['House Style_2.5Unf']\n",
    "test['2.5Fin'] = pd.get_dummies(test, columns=['House Style'])['House Style_2.5Fin']\n",
    "\n",
    "# This breaks apart home styles as Booolian columns."
   ]
  },
  {
   "cell_type": "code",
   "execution_count": null,
   "metadata": {},
   "outputs": [],
   "source": []
  },
  {
   "cell_type": "code",
   "execution_count": 21,
   "metadata": {},
   "outputs": [],
   "source": [
    "train['Mas Vnr Type_BrkCmn'] = pd.get_dummies(train, columns=['Mas Vnr Type'])['Mas Vnr Type_BrkCmn']\n",
    "train['Mas Vnr Type_BrkFace'] = pd.get_dummies(train, columns=['Mas Vnr Type'])['Mas Vnr Type_BrkFace']\n",
    "train['Mas Vnr Type_Stone'] = pd.get_dummies(train, columns=['Mas Vnr Type'])['Mas Vnr Type_Stone']\n",
    "train['Mas Vnr Type_None'] = pd.get_dummies(train, columns=['Mas Vnr Type'])['Mas Vnr Type_None']\n",
    "\n",
    "test['Mas Vnr Type_BrkCmn'] = pd.get_dummies(test, columns=['Mas Vnr Type'])['Mas Vnr Type_BrkCmn']\n",
    "test['Mas Vnr Type_BrkFace'] = pd.get_dummies(test, columns=['Mas Vnr Type'])['Mas Vnr Type_BrkFace']\n",
    "test['Mas Vnr Type_Stone'] = pd.get_dummies(test, columns=['Mas Vnr Type'])['Mas Vnr Type_Stone']\n",
    "test['Mas Vnr Type_None'] = pd.get_dummies(test, columns=['Mas Vnr Type'])['Mas Vnr Type_None']"
   ]
  },
  {
   "cell_type": "code",
   "execution_count": null,
   "metadata": {},
   "outputs": [],
   "source": []
  },
  {
   "cell_type": "code",
   "execution_count": 22,
   "metadata": {},
   "outputs": [],
   "source": [
    "train['Gentle Slope'] = pd.get_dummies(train['Land Slope'])['Gtl']\n",
    "train['Moderate Slope'] = pd.get_dummies(train['Land Slope'])['Mod']\n",
    "train['Severe Slope'] = pd.get_dummies(train['Land Slope'])['Sev']\n",
    "\n",
    "test['Gentle Slope'] = pd.get_dummies(test['Land Slope'])['Gtl']\n",
    "test['Moderate Slope'] = pd.get_dummies(test['Land Slope'])['Mod']\n",
    "test['Severe Slope'] = pd.get_dummies(test['Land Slope'])['Sev']"
   ]
  },
  {
   "cell_type": "code",
   "execution_count": null,
   "metadata": {},
   "outputs": [],
   "source": []
  },
  {
   "cell_type": "code",
   "execution_count": 23,
   "metadata": {},
   "outputs": [],
   "source": [
    "train['Contour Lvl'] = pd.get_dummies(train['Land Contour'])['Lvl']\n",
    "train['Contour Bnk'] = pd.get_dummies(train['Land Contour'])['Bnk']\n",
    "train['Contour Low'] = pd.get_dummies(train['Land Contour'])['HLS']\n",
    "\n",
    "test['Contour Lvl'] = pd.get_dummies(test['Land Contour'])['Lvl']\n",
    "test['Contour Bnk'] = pd.get_dummies(test['Land Contour'])['Bnk']\n",
    "test['Contour Low'] = pd.get_dummies(test['Land Contour'])['HLS']"
   ]
  },
  {
   "cell_type": "code",
   "execution_count": null,
   "metadata": {},
   "outputs": [],
   "source": []
  },
  {
   "cell_type": "code",
   "execution_count": 24,
   "metadata": {},
   "outputs": [],
   "source": [
    "train['Electrical FuseA'] = pd.get_dummies(train['Electrical'])['FuseA']\n",
    "train['Electrical FuseF'] = pd.get_dummies(train['Electrical'])['FuseF']\n",
    "train['Electrical FuseP'] = pd.get_dummies(train['Electrical'])['FuseP']\n",
    "\n",
    "test['Electrical FuseA'] = pd.get_dummies(test['Electrical'])['FuseA']\n",
    "test['Electrical FuseF'] = pd.get_dummies(test['Electrical'])['FuseF']\n",
    "test['Electrical FuseP'] = pd.get_dummies(test['Electrical'])['FuseP']"
   ]
  },
  {
   "cell_type": "code",
   "execution_count": null,
   "metadata": {},
   "outputs": [],
   "source": []
  },
  {
   "cell_type": "code",
   "execution_count": 25,
   "metadata": {},
   "outputs": [
    {
     "data": {
      "text/plain": [
       "array(['Sawyer', 'SawyerW', 'NAmes', 'Timber', 'Edwards', 'OldTown',\n",
       "       'BrDale', 'CollgCr', 'Somerst', 'Mitchel', 'StoneBr', 'NridgHt',\n",
       "       'Gilbert', 'Crawfor', 'IDOTRR', 'NWAmes', 'Veenker', 'MeadowV',\n",
       "       'SWISU', 'NoRidge', 'ClearCr', 'Blmngtn', 'BrkSide', 'NPkVill',\n",
       "       'Blueste', 'GrnHill', 'Greens', 'Landmrk'], dtype=object)"
      ]
     },
     "execution_count": 25,
     "metadata": {},
     "output_type": "execute_result"
    }
   ],
   "source": [
    "train['Neighborhood'].unique()"
   ]
  },
  {
   "cell_type": "code",
   "execution_count": 26,
   "metadata": {},
   "outputs": [],
   "source": [
    "# train = pd.concat([train, pd.get_dummies(train['Neighborhood'])])\n",
    "# test = pd.concat([test, pd.get_dummies(test['Neighborhood'])])"
   ]
  },
  {
   "cell_type": "code",
   "execution_count": 27,
   "metadata": {},
   "outputs": [],
   "source": [
    "train['Neighborhood Sawyer'] = pd.get_dummies(train['Neighborhood'])['Sawyer']\n",
    "train['Neighborhood SawyerW'] = pd.get_dummies(train['Neighborhood'])['SawyerW']\n",
    "train['Neighborhood Timber'] = pd.get_dummies(train['Neighborhood'])['Timber']\n",
    "train['Neighborhood Edwards'] = pd.get_dummies(train['Neighborhood'])['Edwards']\n",
    "train['Neighborhood OldTown'] = pd.get_dummies(train['Neighborhood'])['OldTown']\n",
    "train['Neighborhood BrDale'] = pd.get_dummies(train['Neighborhood'])['BrDale']\n",
    "train['Neighborhood CollgCr'] = pd.get_dummies(train['Neighborhood'])['CollgCr']\n",
    "train['Neighborhood Somerst'] = pd.get_dummies(train['Neighborhood'])['Somerst']\n",
    "train['Neighborhood Mitchel'] = pd.get_dummies(train['Neighborhood'])['Mitchel']\n",
    "train['Neighborhood StoneBr'] = pd.get_dummies(train['Neighborhood'])['StoneBr']\n",
    "train['Neighborhood NridgHt'] = pd.get_dummies(train['Neighborhood'])['NridgHt']\n",
    "train['Neighborhood Gilbert'] = pd.get_dummies(train['Neighborhood'])['Gilbert']\n",
    "train['Neighborhood Crawfor'] = pd.get_dummies(train['Neighborhood'])['Crawfor']\n",
    "train['Neighborhood IDOTRR'] = pd.get_dummies(train['Neighborhood'])['IDOTRR']\n",
    "train['Neighborhood NWAmes'] = pd.get_dummies(train['Neighborhood'])['NWAmes']\n",
    "train['Neighborhood Veenker'] = pd.get_dummies(train['Neighborhood'])['Veenker']\n",
    "train['Neighborhood MeadowV'] = pd.get_dummies(train['Neighborhood'])['MeadowV']\n",
    "train['Neighborhood SWISU'] = pd.get_dummies(train['Neighborhood'])['SWISU']\n",
    "train['Neighborhood NoRidge'] = pd.get_dummies(train['Neighborhood'])['NoRidge']\n",
    "train['Neighborhood ClearCr'] = pd.get_dummies(train['Neighborhood'])['ClearCr']\n",
    "train['Neighborhood Blmngtn'] = pd.get_dummies(train['Neighborhood'])['Blmngtn']\n",
    "train['Neighborhood BrkSide'] = pd.get_dummies(train['Neighborhood'])['BrkSide']\n",
    "train['Neighborhood NPkVill'] = pd.get_dummies(train['Neighborhood'])['NPkVill']\n",
    "train['Neighborhood Blueste'] = pd.get_dummies(train['Neighborhood'])['Blueste']\n",
    "# train['Neighborhood GrnHill'] = pd.get_dummies(train['Neighborhood'])['GrnHill']\n",
    "train['Neighborhood Greens'] = pd.get_dummies(train['Neighborhood'])['Greens']\n",
    "# train['Neighborhood Landmrk'] = pd.get_dummies(train['Neighborhood'])['Landmrk']\n",
    "\n",
    "test['Neighborhood Sawyer'] = pd.get_dummies(test['Neighborhood'])['Sawyer']\n",
    "test['Neighborhood SawyerW'] = pd.get_dummies(test['Neighborhood'])['SawyerW']\n",
    "test['Neighborhood Timber'] = pd.get_dummies(test['Neighborhood'])['Timber']\n",
    "test['Neighborhood Edwards'] = pd.get_dummies(test['Neighborhood'])['Edwards']\n",
    "test['Neighborhood OldTown'] = pd.get_dummies(test['Neighborhood'])['OldTown']\n",
    "test['Neighborhood BrDale'] = pd.get_dummies(test['Neighborhood'])['BrDale']\n",
    "test['Neighborhood CollgCr'] = pd.get_dummies(test['Neighborhood'])['CollgCr']\n",
    "test['Neighborhood Somerst'] = pd.get_dummies(test['Neighborhood'])['Somerst']\n",
    "test['Neighborhood Mitchel'] = pd.get_dummies(test['Neighborhood'])['Mitchel']\n",
    "test['Neighborhood StoneBr'] = pd.get_dummies(test['Neighborhood'])['StoneBr']\n",
    "test['Neighborhood NridgHt'] = pd.get_dummies(test['Neighborhood'])['NridgHt']\n",
    "test['Neighborhood Gilbert'] = pd.get_dummies(test['Neighborhood'])['Gilbert']\n",
    "test['Neighborhood Crawfor'] = pd.get_dummies(test['Neighborhood'])['Crawfor']\n",
    "test['Neighborhood IDOTRR'] = pd.get_dummies(test['Neighborhood'])['IDOTRR']\n",
    "test['Neighborhood NWAmes'] = pd.get_dummies(test['Neighborhood'])['NWAmes']\n",
    "test['Neighborhood Veenker'] = pd.get_dummies(test['Neighborhood'])['Veenker']\n",
    "test['Neighborhood MeadowV'] = pd.get_dummies(test['Neighborhood'])['MeadowV']\n",
    "test['Neighborhood SWISU'] = pd.get_dummies(test['Neighborhood'])['SWISU']\n",
    "test['Neighborhood NoRidge'] = pd.get_dummies(test['Neighborhood'])['NoRidge']\n",
    "test['Neighborhood ClearCr'] = pd.get_dummies(test['Neighborhood'])['ClearCr']\n",
    "test['Neighborhood Blmngtn'] = pd.get_dummies(test['Neighborhood'])['Blmngtn']\n",
    "test['Neighborhood BrkSide'] = pd.get_dummies(test['Neighborhood'])['BrkSide']\n",
    "test['Neighborhood NPkVill'] = pd.get_dummies(test['Neighborhood'])['NPkVill']\n",
    "test['Neighborhood Blueste'] = pd.get_dummies(test['Neighborhood'])['Blueste']\n",
    "# test['Neighborhood GrnHill'] = pd.get_dummies(test['Neighborhood'])['GrnHill']\n",
    "test['Neighborhood Greens'] = pd.get_dummies(test['Neighborhood'])['Greens']\n",
    "# test['Neighborhood Landmrk'] = pd.get_dummies(test['Neighborhood'])['Landmrk']"
   ]
  },
  {
   "cell_type": "code",
   "execution_count": null,
   "metadata": {},
   "outputs": [],
   "source": []
  },
  {
   "cell_type": "code",
   "execution_count": 28,
   "metadata": {},
   "outputs": [],
   "source": [
    "train['High Condition'] = train['Overall Cond'].map(lambda high: 1 if high >= 7 else 0)"
   ]
  },
  {
   "cell_type": "code",
   "execution_count": 29,
   "metadata": {},
   "outputs": [],
   "source": [
    "test['High Condition'] = test['Overall Cond'].map(lambda high: 1 if high >= 7 else 0)"
   ]
  },
  {
   "cell_type": "code",
   "execution_count": null,
   "metadata": {},
   "outputs": [],
   "source": []
  },
  {
   "cell_type": "code",
   "execution_count": 30,
   "metadata": {},
   "outputs": [],
   "source": [
    "train = pd.get_dummies(train, columns=['Foundation'])"
   ]
  },
  {
   "cell_type": "code",
   "execution_count": 31,
   "metadata": {},
   "outputs": [],
   "source": [
    "test = pd.get_dummies(test, columns=['Foundation'])"
   ]
  },
  {
   "cell_type": "code",
   "execution_count": null,
   "metadata": {},
   "outputs": [],
   "source": []
  },
  {
   "cell_type": "code",
   "execution_count": 32,
   "metadata": {},
   "outputs": [],
   "source": [
    "train = pd.get_dummies(train, columns=['Roof Matl'])"
   ]
  },
  {
   "cell_type": "code",
   "execution_count": 33,
   "metadata": {},
   "outputs": [],
   "source": [
    "test = pd.get_dummies(test, columns=['Roof Matl'])"
   ]
  },
  {
   "cell_type": "code",
   "execution_count": null,
   "metadata": {},
   "outputs": [],
   "source": []
  },
  {
   "cell_type": "code",
   "execution_count": 34,
   "metadata": {},
   "outputs": [],
   "source": [
    "train = pd.get_dummies(train, columns=['Roof Style'])"
   ]
  },
  {
   "cell_type": "code",
   "execution_count": 35,
   "metadata": {},
   "outputs": [],
   "source": [
    "test = pd.get_dummies(test, columns=['Roof Style'])"
   ]
  },
  {
   "cell_type": "code",
   "execution_count": null,
   "metadata": {},
   "outputs": [],
   "source": []
  },
  {
   "cell_type": "code",
   "execution_count": 36,
   "metadata": {},
   "outputs": [],
   "source": [
    "train = pd.get_dummies(train, columns=['Bldg Type'])"
   ]
  },
  {
   "cell_type": "code",
   "execution_count": 37,
   "metadata": {},
   "outputs": [],
   "source": [
    "test = pd.get_dummies(test, columns=['Bldg Type'])"
   ]
  },
  {
   "cell_type": "code",
   "execution_count": null,
   "metadata": {},
   "outputs": [],
   "source": []
  },
  {
   "cell_type": "code",
   "execution_count": 38,
   "metadata": {},
   "outputs": [],
   "source": [
    "train = pd.get_dummies(train, columns=['Heating'])"
   ]
  },
  {
   "cell_type": "code",
   "execution_count": 39,
   "metadata": {},
   "outputs": [],
   "source": [
    "test = pd.get_dummies(test, columns=['Heating'])"
   ]
  },
  {
   "cell_type": "code",
   "execution_count": null,
   "metadata": {},
   "outputs": [],
   "source": []
  },
  {
   "cell_type": "code",
   "execution_count": 40,
   "metadata": {},
   "outputs": [],
   "source": [
    "train = pd.get_dummies(train, columns=['Heating QC'])"
   ]
  },
  {
   "cell_type": "code",
   "execution_count": 41,
   "metadata": {},
   "outputs": [],
   "source": [
    "test = pd.get_dummies(test, columns=['Heating QC'])"
   ]
  },
  {
   "cell_type": "code",
   "execution_count": null,
   "metadata": {},
   "outputs": [],
   "source": []
  },
  {
   "cell_type": "code",
   "execution_count": 42,
   "metadata": {},
   "outputs": [],
   "source": [
    "train = pd.get_dummies(train, columns=['Exter Cond'])"
   ]
  },
  {
   "cell_type": "code",
   "execution_count": 43,
   "metadata": {},
   "outputs": [],
   "source": [
    "test = pd.get_dummies(test, columns=['Exter Cond'])"
   ]
  },
  {
   "cell_type": "code",
   "execution_count": null,
   "metadata": {},
   "outputs": [],
   "source": []
  },
  {
   "cell_type": "code",
   "execution_count": 44,
   "metadata": {},
   "outputs": [],
   "source": [
    "train = pd.get_dummies(train, columns=['Garage Type'])"
   ]
  },
  {
   "cell_type": "code",
   "execution_count": 45,
   "metadata": {},
   "outputs": [],
   "source": [
    "test = pd.get_dummies(test, columns=['Garage Type'])"
   ]
  },
  {
   "cell_type": "code",
   "execution_count": null,
   "metadata": {},
   "outputs": [],
   "source": []
  },
  {
   "cell_type": "code",
   "execution_count": 111,
   "metadata": {},
   "outputs": [],
   "source": [
    "train['House Age'] = train['Yr Sold'] - train['Year Built']"
   ]
  },
  {
   "cell_type": "code",
   "execution_count": 112,
   "metadata": {},
   "outputs": [],
   "source": [
    "test['House Age'] = test['Yr Sold'] - test['Year Built']"
   ]
  },
  {
   "cell_type": "code",
   "execution_count": null,
   "metadata": {},
   "outputs": [],
   "source": []
  },
  {
   "cell_type": "code",
   "execution_count": 117,
   "metadata": {},
   "outputs": [],
   "source": [
    "train['Garage Age'] = train['Yr Sold'] - train['Garage Yr Blt']"
   ]
  },
  {
   "cell_type": "code",
   "execution_count": 115,
   "metadata": {},
   "outputs": [],
   "source": [
    "test['Garage Age'] = test['Yr Sold'] - test['Garage Yr Blt']"
   ]
  },
  {
   "cell_type": "code",
   "execution_count": null,
   "metadata": {},
   "outputs": [],
   "source": []
  },
  {
   "cell_type": "code",
   "execution_count": 161,
   "metadata": {},
   "outputs": [],
   "source": [
    "train = pd.get_dummies(train, columns=['Fence'])"
   ]
  },
  {
   "cell_type": "code",
   "execution_count": 162,
   "metadata": {},
   "outputs": [],
   "source": [
    "test = pd.get_dummies(test, columns=['Fence'])"
   ]
  },
  {
   "cell_type": "code",
   "execution_count": null,
   "metadata": {},
   "outputs": [],
   "source": []
  },
  {
   "cell_type": "code",
   "execution_count": null,
   "metadata": {},
   "outputs": [],
   "source": []
  },
  {
   "cell_type": "code",
   "execution_count": null,
   "metadata": {},
   "outputs": [],
   "source": []
  },
  {
   "cell_type": "code",
   "execution_count": null,
   "metadata": {},
   "outputs": [],
   "source": []
  },
  {
   "cell_type": "code",
   "execution_count": null,
   "metadata": {},
   "outputs": [],
   "source": []
  },
  {
   "cell_type": "code",
   "execution_count": null,
   "metadata": {},
   "outputs": [],
   "source": []
  },
  {
   "cell_type": "code",
   "execution_count": null,
   "metadata": {},
   "outputs": [],
   "source": []
  },
  {
   "cell_type": "code",
   "execution_count": null,
   "metadata": {},
   "outputs": [],
   "source": []
  },
  {
   "cell_type": "code",
   "execution_count": 49,
   "metadata": {},
   "outputs": [
    {
     "data": {
      "text/plain": [
       "Id                     0\n",
       "PID                    0\n",
       "MS SubClass            0\n",
       "MS Zoning              0\n",
       "Lot Frontage           0\n",
       "                      ..\n",
       "Garage Type_Basment    0\n",
       "Garage Type_BuiltIn    0\n",
       "Garage Type_CarPort    0\n",
       "Garage Type_Detchd     0\n",
       "House Age              0\n",
       "Length: 192, dtype: int64"
      ]
     },
     "execution_count": 49,
     "metadata": {},
     "output_type": "execute_result"
    }
   ],
   "source": [
    "test.isnull().sum()"
   ]
  },
  {
   "cell_type": "code",
   "execution_count": null,
   "metadata": {},
   "outputs": [],
   "source": []
  },
  {
   "cell_type": "code",
   "execution_count": null,
   "metadata": {},
   "outputs": [],
   "source": []
  },
  {
   "cell_type": "code",
   "execution_count": 50,
   "metadata": {},
   "outputs": [],
   "source": [
    "train['Low Condition'] = train['Overall Cond'].map(lambda low: 1 if low <= 3 else 0)"
   ]
  },
  {
   "cell_type": "code",
   "execution_count": 51,
   "metadata": {},
   "outputs": [],
   "source": [
    "test['Low Condition'] = test['Overall Cond'].map(lambda low: 1 if low <= 3 else 0)"
   ]
  },
  {
   "cell_type": "code",
   "execution_count": null,
   "metadata": {},
   "outputs": [],
   "source": []
  },
  {
   "cell_type": "code",
   "execution_count": 52,
   "metadata": {},
   "outputs": [],
   "source": [
    "train['Bsmt Full Bath'] = train['Bsmt Full Bath'].fillna(0)"
   ]
  },
  {
   "cell_type": "code",
   "execution_count": 53,
   "metadata": {},
   "outputs": [],
   "source": [
    "test['Bsmt Full Bath'] = test['Bsmt Full Bath'].fillna(0)"
   ]
  },
  {
   "cell_type": "code",
   "execution_count": null,
   "metadata": {},
   "outputs": [],
   "source": []
  },
  {
   "cell_type": "code",
   "execution_count": null,
   "metadata": {},
   "outputs": [],
   "source": []
  },
  {
   "cell_type": "code",
   "execution_count": null,
   "metadata": {},
   "outputs": [],
   "source": []
  },
  {
   "cell_type": "code",
   "execution_count": null,
   "metadata": {},
   "outputs": [],
   "source": []
  },
  {
   "cell_type": "code",
   "execution_count": 160,
   "metadata": {},
   "outputs": [
    {
     "data": {
      "text/plain": [
       "Functional          object\n",
       "Fireplaces           int64\n",
       "Fireplace Qu        object\n",
       "Garage Yr Blt      float64\n",
       "Garage Finish       object\n",
       "Garage Cars        float64\n",
       "Garage Area        float64\n",
       "Garage Qual         object\n",
       "Garage Cond         object\n",
       "Paved Drive         object\n",
       "Wood Deck SF         int64\n",
       "Open Porch SF        int64\n",
       "Enclosed Porch       int64\n",
       "3Ssn Porch           int64\n",
       "Screen Porch         int64\n",
       "Pool Area            int64\n",
       "Pool QC             object\n",
       "Fence               object\n",
       "Misc Feature        object\n",
       "Misc Val             int64\n",
       "Mo Sold              int64\n",
       "Yr Sold              int64\n",
       "Bsmt Cond Po         uint8\n",
       "Bsmt Cond Fa         uint8\n",
       "Bsmt Cond TA         uint8\n",
       "Bsmt Cond Gd         uint8\n",
       "Bsmt Cond Ex         uint8\n",
       "Kitchen Qual Fa      uint8\n",
       "Kitchen Qual TA      uint8\n",
       "Kitchen Qual Gd      uint8\n",
       "Kitchen Qual Ex      uint8\n",
       "Exter Qual Fa        uint8\n",
       "Exter Qual TA        uint8\n",
       "Exter Qual Gd        uint8\n",
       "Exter Qual Ex        uint8\n",
       "Sale Type_CWD        uint8\n",
       "Sale Type_Con        uint8\n",
       "Sale Type_ConLD      uint8\n",
       "Sale Type_ConLI      uint8\n",
       "Sale Type_ConLw      uint8\n",
       "Sale Type_New        uint8\n",
       "Sale Type_Oth        uint8\n",
       "Sale Type_WD         uint8\n",
       "Quality 2/10         uint8\n",
       "Quality 3/10         uint8\n",
       "Quality 4/10         uint8\n",
       "Quality 5/10         uint8\n",
       "Quality 6/10         uint8\n",
       "Quality 7/10         uint8\n",
       "Quality 8/10         uint8\n",
       "dtype: object"
      ]
     },
     "execution_count": 160,
     "metadata": {},
     "output_type": "execute_result"
    }
   ],
   "source": [
    "train.dtypes[50:100]"
   ]
  },
  {
   "cell_type": "code",
   "execution_count": null,
   "metadata": {},
   "outputs": [],
   "source": []
  },
  {
   "cell_type": "code",
   "execution_count": null,
   "metadata": {},
   "outputs": [],
   "source": []
  },
  {
   "cell_type": "code",
   "execution_count": null,
   "metadata": {},
   "outputs": [],
   "source": []
  },
  {
   "cell_type": "code",
   "execution_count": null,
   "metadata": {},
   "outputs": [],
   "source": []
  },
  {
   "cell_type": "code",
   "execution_count": null,
   "metadata": {},
   "outputs": [],
   "source": []
  },
  {
   "cell_type": "code",
   "execution_count": null,
   "metadata": {},
   "outputs": [],
   "source": []
  },
  {
   "cell_type": "code",
   "execution_count": null,
   "metadata": {},
   "outputs": [],
   "source": []
  },
  {
   "cell_type": "code",
   "execution_count": null,
   "metadata": {},
   "outputs": [],
   "source": []
  },
  {
   "cell_type": "code",
   "execution_count": null,
   "metadata": {},
   "outputs": [],
   "source": []
  },
  {
   "cell_type": "code",
   "execution_count": 55,
   "metadata": {},
   "outputs": [],
   "source": [
    "# train['Garage Condition Po'] = pd.get_dummies(train['Garage Cond'])['Po']\n",
    "# train['Garage Condition Fa'] = pd.get_dummies(train['Garage Cond'])['Fa']\n",
    "# train['Garage Condition TA'] = pd.get_dummies(train['Garage Cond'])['TA']\n",
    "# train['Garage Condition Gd'] = pd.get_dummies(train['Garage Cond'])['Gd']\n",
    "# train['Garage Condition Ex'] = pd.get_dummies(train['Garage Cond'])['Ex']\n",
    "\n",
    "# test['Garage Condition Po'] = pd.get_dummies(test['Garage Cond'])['Po']\n",
    "# test['Garage Condition Fa'] = pd.get_dummies(test['Garage Cond'])['Fa']\n",
    "# test['Garage Condition TA'] = pd.get_dummies(test['Garage Cond'])['TA']\n",
    "# test['Garage Condition Gd'] = pd.get_dummies(test['Garage Cond'])['Gd']\n",
    "# test['Garage Condition Ex'] = pd.get_dummies(test['Garage Cond'])['Ex']"
   ]
  },
  {
   "cell_type": "code",
   "execution_count": null,
   "metadata": {},
   "outputs": [],
   "source": []
  },
  {
   "cell_type": "code",
   "execution_count": null,
   "metadata": {},
   "outputs": [],
   "source": []
  },
  {
   "cell_type": "code",
   "execution_count": null,
   "metadata": {},
   "outputs": [],
   "source": []
  },
  {
   "cell_type": "code",
   "execution_count": null,
   "metadata": {},
   "outputs": [],
   "source": []
  },
  {
   "cell_type": "code",
   "execution_count": null,
   "metadata": {},
   "outputs": [],
   "source": []
  },
  {
   "cell_type": "code",
   "execution_count": null,
   "metadata": {},
   "outputs": [],
   "source": []
  },
  {
   "cell_type": "code",
   "execution_count": 56,
   "metadata": {},
   "outputs": [
    {
     "data": {
      "text/plain": [
       "Fireplaces           0\n",
       "Fireplace Qu       422\n",
       "Garage Yr Blt       45\n",
       "Garage Finish       45\n",
       "Garage Cars          0\n",
       "Garage Area          0\n",
       "Garage Qual         45\n",
       "Garage Cond         45\n",
       "Paved Drive          0\n",
       "Wood Deck SF         0\n",
       "Open Porch SF        0\n",
       "Enclosed Porch       0\n",
       "3Ssn Porch           0\n",
       "Screen Porch         0\n",
       "Pool Area            0\n",
       "Pool QC            875\n",
       "Fence              707\n",
       "Misc Feature       838\n",
       "Misc Val             0\n",
       "Mo Sold              0\n",
       "Yr Sold              0\n",
       "Bsmt Cond Fa         0\n",
       "Bsmt Cond TA         0\n",
       "Bsmt Cond Gd         0\n",
       "Kitchen Qual Fa      0\n",
       "dtype: int64"
      ]
     },
     "execution_count": 56,
     "metadata": {},
     "output_type": "execute_result"
    }
   ],
   "source": [
    "test.isnull().sum()[50:75] # Electrical, Fence, have nulls that need to be removed."
   ]
  },
  {
   "cell_type": "code",
   "execution_count": null,
   "metadata": {},
   "outputs": [],
   "source": []
  },
  {
   "cell_type": "markdown",
   "metadata": {},
   "source": [
    "# BELOW ARE INTERSECTED COLUMNS"
   ]
  },
  {
   "cell_type": "code",
   "execution_count": 57,
   "metadata": {},
   "outputs": [],
   "source": [
    "train['Area * Cars'] = train['Gr Liv Area'] * train['Garage Cars']"
   ]
  },
  {
   "cell_type": "code",
   "execution_count": 58,
   "metadata": {},
   "outputs": [],
   "source": [
    "test['Area * Cars'] = test['Gr Liv Area'] * test['Garage Cars']"
   ]
  },
  {
   "cell_type": "code",
   "execution_count": null,
   "metadata": {},
   "outputs": [],
   "source": []
  },
  {
   "cell_type": "code",
   "execution_count": 59,
   "metadata": {},
   "outputs": [],
   "source": [
    "train['Built * Remod'] = train['Year Built'] * train['Year Remod/Add']"
   ]
  },
  {
   "cell_type": "code",
   "execution_count": 60,
   "metadata": {},
   "outputs": [],
   "source": [
    "test['Built * Remod'] = test['Year Built'] * test['Year Remod/Add']"
   ]
  },
  {
   "cell_type": "code",
   "execution_count": null,
   "metadata": {},
   "outputs": [],
   "source": []
  },
  {
   "cell_type": "code",
   "execution_count": 61,
   "metadata": {},
   "outputs": [],
   "source": [
    "train['Basement * Year Remod'] = train['Year Remod/Add'] * train['Total Bsmt SF']"
   ]
  },
  {
   "cell_type": "code",
   "execution_count": 62,
   "metadata": {},
   "outputs": [],
   "source": [
    "test['Basement * Year Remod'] = test['Year Remod/Add'] * test['Total Bsmt SF']"
   ]
  },
  {
   "cell_type": "code",
   "execution_count": null,
   "metadata": {},
   "outputs": [],
   "source": []
  },
  {
   "cell_type": "code",
   "execution_count": 63,
   "metadata": {},
   "outputs": [],
   "source": [
    "train['Garage Car Area'] = train['Garage Cars'] * train['Garage Area']"
   ]
  },
  {
   "cell_type": "code",
   "execution_count": 64,
   "metadata": {},
   "outputs": [],
   "source": [
    "test['Garage Car Area'] = test['Garage Cars'] * test['Garage Area']"
   ]
  },
  {
   "cell_type": "code",
   "execution_count": null,
   "metadata": {},
   "outputs": [],
   "source": []
  },
  {
   "cell_type": "code",
   "execution_count": 65,
   "metadata": {},
   "outputs": [],
   "source": [
    "train['Central Air * Bath'] = train['Central Air'] * train['Full Bath']"
   ]
  },
  {
   "cell_type": "code",
   "execution_count": 66,
   "metadata": {},
   "outputs": [],
   "source": [
    "test['Central Air * Bath'] = test['Central Air'] * test['Full Bath']"
   ]
  },
  {
   "cell_type": "code",
   "execution_count": null,
   "metadata": {},
   "outputs": [],
   "source": []
  },
  {
   "cell_type": "code",
   "execution_count": 67,
   "metadata": {},
   "outputs": [],
   "source": [
    "train['Wood Deck * Open Porch'] = train['Wood Deck SF'] * train['Open Porch SF']"
   ]
  },
  {
   "cell_type": "code",
   "execution_count": 68,
   "metadata": {},
   "outputs": [],
   "source": [
    "test['Wood Deck * Open Porch'] = test['Wood Deck SF'] * test['Open Porch SF']"
   ]
  },
  {
   "cell_type": "code",
   "execution_count": null,
   "metadata": {},
   "outputs": [],
   "source": []
  },
  {
   "cell_type": "code",
   "execution_count": 69,
   "metadata": {},
   "outputs": [],
   "source": [
    "train['Lot Front Deck'] = train['Lot Frontage'] * train['Wood Deck SF']"
   ]
  },
  {
   "cell_type": "code",
   "execution_count": 70,
   "metadata": {},
   "outputs": [],
   "source": [
    "test['Lot Front Deck'] = test['Lot Frontage'] * test['Wood Deck SF']"
   ]
  },
  {
   "cell_type": "code",
   "execution_count": null,
   "metadata": {},
   "outputs": [],
   "source": []
  },
  {
   "cell_type": "code",
   "execution_count": 71,
   "metadata": {},
   "outputs": [],
   "source": [
    "train['Total Bath'] = train['Full Bath'] + train['Bsmt Full Bath']"
   ]
  },
  {
   "cell_type": "code",
   "execution_count": 72,
   "metadata": {},
   "outputs": [],
   "source": [
    "test['Total Bath'] = test['Full Bath'] + test['Bsmt Full Bath']"
   ]
  },
  {
   "cell_type": "code",
   "execution_count": null,
   "metadata": {},
   "outputs": [],
   "source": []
  },
  {
   "cell_type": "code",
   "execution_count": 73,
   "metadata": {},
   "outputs": [],
   "source": [
    "train['Mas Vnr Area of Stone'] = train['Mas Vnr Area'] * train['Mas Vnr Type_Stone']"
   ]
  },
  {
   "cell_type": "code",
   "execution_count": 74,
   "metadata": {},
   "outputs": [],
   "source": [
    "test['Mas Vnr Area of Stone'] = test['Mas Vnr Area'] * test['Mas Vnr Type_Stone']"
   ]
  },
  {
   "cell_type": "code",
   "execution_count": null,
   "metadata": {},
   "outputs": [],
   "source": []
  },
  {
   "cell_type": "code",
   "execution_count": 75,
   "metadata": {},
   "outputs": [],
   "source": [
    "train['Mas Vnr Area of Brick Face'] = train['Mas Vnr Area'] * train['Mas Vnr Type_BrkFace']"
   ]
  },
  {
   "cell_type": "code",
   "execution_count": 76,
   "metadata": {},
   "outputs": [],
   "source": [
    "test['Mas Vnr Area of Brick Face'] = test['Mas Vnr Area'] * test['Mas Vnr Type_BrkFace']"
   ]
  },
  {
   "cell_type": "code",
   "execution_count": null,
   "metadata": {},
   "outputs": [],
   "source": []
  },
  {
   "cell_type": "code",
   "execution_count": null,
   "metadata": {},
   "outputs": [],
   "source": []
  },
  {
   "cell_type": "code",
   "execution_count": null,
   "metadata": {},
   "outputs": [],
   "source": []
  },
  {
   "cell_type": "code",
   "execution_count": null,
   "metadata": {},
   "outputs": [],
   "source": []
  },
  {
   "cell_type": "code",
   "execution_count": null,
   "metadata": {},
   "outputs": [],
   "source": []
  },
  {
   "cell_type": "code",
   "execution_count": null,
   "metadata": {},
   "outputs": [],
   "source": []
  },
  {
   "cell_type": "code",
   "execution_count": 77,
   "metadata": {},
   "outputs": [],
   "source": [
    "# Columns showing whether or not the house has a fence did not have high enough correlation.\n",
    "\n",
    "# train['fence_or_not'] = pd.get_dummies(train)['Fence_GdPrv'] + pd.get_dummies(train)['Fence_GdWo'] + pd.get_dummies(train)['Fence_MnPrv'] + pd.get_dummies(train)['Fence_MnWw']"
   ]
  },
  {
   "cell_type": "code",
   "execution_count": null,
   "metadata": {},
   "outputs": [],
   "source": []
  },
  {
   "cell_type": "code",
   "execution_count": 78,
   "metadata": {},
   "outputs": [],
   "source": [
    "# Column showing basement size * basement condition had a correlation in the 20%s.\n",
    "\n",
    "# train['Bsmt SF * Qual'] = train['Bsmt Cond'] * train['Bsmt Unf SF']"
   ]
  },
  {
   "cell_type": "code",
   "execution_count": null,
   "metadata": {},
   "outputs": [],
   "source": []
  },
  {
   "cell_type": "code",
   "execution_count": 79,
   "metadata": {},
   "outputs": [],
   "source": [
    "# Paved road or not had 7% correclation.\n",
    "\n",
    "# train['Paved Road'] = pd.get_dummies(train['Street'])['Pave']"
   ]
  },
  {
   "cell_type": "code",
   "execution_count": null,
   "metadata": {},
   "outputs": [],
   "source": []
  },
  {
   "cell_type": "code",
   "execution_count": 80,
   "metadata": {},
   "outputs": [],
   "source": [
    "# Fireplace * Quality was lower than just Quality\n",
    "\n",
    "# train['Fireplace * Quality'] = train['Fireplaces'] * train['Fireplace Qu']"
   ]
  },
  {
   "cell_type": "code",
   "execution_count": null,
   "metadata": {},
   "outputs": [],
   "source": []
  },
  {
   "cell_type": "code",
   "execution_count": 81,
   "metadata": {},
   "outputs": [],
   "source": [
    "# Repetatitve.\n",
    "\n",
    "# train['1st Floor * Garage'] = train['1st Flr SF'] * train[\"Garage Cars\"] "
   ]
  },
  {
   "cell_type": "code",
   "execution_count": null,
   "metadata": {},
   "outputs": [],
   "source": []
  },
  {
   "cell_type": "code",
   "execution_count": 82,
   "metadata": {},
   "outputs": [],
   "source": [
    "# Basement size * bathroom only had 43% correlation\n",
    "\n",
    "# train['Basement Square Feet * Bath'] = train['Total Bsmt SF'] * train['Bsmt Full Bath']"
   ]
  },
  {
   "cell_type": "code",
   "execution_count": null,
   "metadata": {},
   "outputs": [],
   "source": []
  },
  {
   "cell_type": "code",
   "execution_count": 166,
   "metadata": {
    "scrolled": false
   },
   "outputs": [
    {
     "data": {
      "image/png": "[encoded data removed]",
      "text/plain": [
       "<Figure size 1080x2520 with 2 Axes>"
      ]
     },
     "metadata": {
      "needs_background": "light"
     },
     "output_type": "display_data"
    }
   ],
   "source": [
    "plt.figure(figsize=(15,35))\n",
    "sns.heatmap(train.corr()[['SalePrice']].sort_values(by = ['SalePrice'], ascending = False), annot=True);"
   ]
  },
  {
   "cell_type": "code",
   "execution_count": 136,
   "metadata": {},
   "outputs": [
    {
     "data": {
      "text/plain": [
       "0        754\n",
       "1       1209\n",
       "2          0\n",
       "3        700\n",
       "4        614\n",
       "        ... \n",
       "2046       0\n",
       "2047       0\n",
       "2048     741\n",
       "2049       0\n",
       "2050     776\n",
       "Name: 2nd Flr SF, Length: 2051, dtype: int64"
      ]
     },
     "execution_count": 136,
     "metadata": {},
     "output_type": "execute_result"
    }
   ],
   "source": [
    "train['2nd Flr SF']"
   ]
  },
  {
   "cell_type": "code",
   "execution_count": 85,
   "metadata": {},
   "outputs": [
    {
     "data": {
      "text/plain": [
       "0      1\n",
       "1      1\n",
       "2      0\n",
       "3      1\n",
       "4      1\n",
       "      ..\n",
       "874    1\n",
       "875    1\n",
       "876    1\n",
       "877    1\n",
       "878    1\n",
       "Name: Sale Type_WD , Length: 879, dtype: uint8"
      ]
     },
     "execution_count": 85,
     "metadata": {},
     "output_type": "execute_result"
    }
   ],
   "source": [
    "test['Sale Type_WD ']"
   ]
  },
  {
   "cell_type": "markdown",
   "metadata": {},
   "source": [
    "# EDIT ONLY TOP LINE TO CHANGE SUBMISSION FILE "
   ]
  },
  {
   "cell_type": "code",
   "execution_count": 137,
   "metadata": {},
   "outputs": [
    {
     "data": {
      "text/plain": [
       "LinearRegression(copy_X=True, fit_intercept=True, n_jobs=None, normalize=False)"
      ]
     },
     "execution_count": 137,
     "metadata": {},
     "output_type": "execute_result"
    }
   ],
   "source": [
    "xvariances = [\n",
    "    'Quality 4/10', 'Quality 5/10', 'Quality 6/10', 'Quality 7/10', 'Quality 8/10',\n",
    "    'Sale Type_New', 'Sale Type_WD ', 'Overall Qual',\n",
    "    'Area * Cars', 'Garage Age',  '1st Flr SF', '2nd Flr SF',\n",
    "    'Total Bsmt SF','TotRms AbvGrd', 'Lot Frontage',\n",
    "    'Year Remod/Add', 'House Age',\n",
    "    'Total Bath', 'Half Bath', 'Central Air', 'Fireplaces',\n",
    "    'Wood Deck SF', 'Open Porch SF', 'Screen Porch',\n",
    "    'Foundation_PConc', 'Foundation_CBlock', 'Foundation_BrkTil', 'Roof Style_Hip', 'Roof Style_Gable',\n",
    "    'PID', 'Garage Type_Detchd', 'Garage Type_Attchd', 'Garage Type_BuiltIn', \n",
    "    'Heating QC_Ex', \n",
    "    \n",
    "    # The below sections break quality options of Poor, Fair, etc into their own boolian columns.\n",
    "    'Bsmt Cond Fa','Bsmt Cond Gd', # 'Bsmt Cond TA', \n",
    "    'Fireplace Qu Gd', 'Fireplace Qu Ex', # 'Fireplace Qu Po', 'Fireplace Qu Fa', 'Fireplace Qu TA',\n",
    "    'Kitchen Qual Ex', 'Kitchen Qual Gd', 'Kitchen Qual TA',# 'Kitchen Qual Fa',\n",
    "    'Exter Qual Gd', 'Exter Qual Ex', #'Exter Qual TA', \n",
    "    \n",
    "#     # Broken apart house options, slope options, and whatever Mas Vnr stands for.\n",
    "#     '1 Story Home', '2 Story Home', '1.5Fin Home', '1.5Unf Home', 'SFoyer Home', '2.5Unf', '2.5Fin', # Home Style Options\n",
    "    'Mas Vnr Area', 'Mas Vnr Type_None','Mas Vnr Area of Brick Face', 'Mas Vnr Area of Stone',# 'Mas Vnr Type_BrkCmn',  # Mas Vnr Details\n",
    "#     'Gentle Slope', 'Severe Slope', # Land Slope\n",
    "#     'Contour Lvl', 'Contour Bnk', 'Contour Low', # Contour\n",
    "    \n",
    "#     # I broke every neighborhood into it's own boolian column, There might be a cleaner way to do this.\n",
    "    'Neighborhood Sawyer', 'Neighborhood Timber', 'Neighborhood Edwards', 'Neighborhood OldTown', \n",
    "    'Neighborhood Somerst', 'Neighborhood StoneBr', 'Neighborhood NridgHt', \n",
    "    'Neighborhood IDOTRR', 'Neighborhood MeadowV', 'Neighborhood NoRidge', 'Neighborhood BrkSide',\n",
    "    \n",
    "    # These are the neighborhoods with a correlation between -10% and 10% that I may want to remove.\n",
    "#     'Neighborhood Blmngtn', 'Neighborhood Blueste', 'Neighborhood Greens', 'Neighborhood SawyerW', 'Neighborhood NWAmes',\n",
    "#     'Neighborhood Gilbert', 'Neighborhood Gilbert', 'Neighborhood NPkVill', 'Neighborhood SWISU', 'Neighborhood ClearCr',\n",
    "#     'Neighborhood CollgCr',  'Neighborhood Crawfor', 'Neighborhood Veenker', \n",
    "    \n",
    "             ] \n",
    "\n",
    "X = train[xvariances]\n",
    "y = train['SalePrice']\n",
    "\n",
    "model = LinearRegression()\n",
    "model.fit(X, y)"
   ]
  },
  {
   "cell_type": "code",
   "execution_count": null,
   "metadata": {},
   "outputs": [],
   "source": []
  },
  {
   "cell_type": "code",
   "execution_count": 138,
   "metadata": {},
   "outputs": [],
   "source": [
    "X_train, X_test, y_train, y_test = train_test_split(X, y, random_state=37)"
   ]
  },
  {
   "cell_type": "code",
   "execution_count": null,
   "metadata": {},
   "outputs": [],
   "source": []
  },
  {
   "cell_type": "code",
   "execution_count": null,
   "metadata": {},
   "outputs": [],
   "source": []
  },
  {
   "cell_type": "markdown",
   "metadata": {},
   "source": [
    "### Linear Regression"
   ]
  },
  {
   "cell_type": "code",
   "execution_count": 139,
   "metadata": {},
   "outputs": [
    {
     "data": {
      "text/plain": [
       "0.880891242504965"
      ]
     },
     "execution_count": 139,
     "metadata": {},
     "output_type": "execute_result"
    }
   ],
   "source": [
    "lr = LinearRegression()\n",
    "cross_val_score(lr, X_train, y_train, cv=5)\n",
    "lr.fit(X_train, y_train)\n",
    "lr.score(X_train, y_train)"
   ]
  },
  {
   "cell_type": "code",
   "execution_count": null,
   "metadata": {},
   "outputs": [],
   "source": []
  },
  {
   "cell_type": "markdown",
   "metadata": {},
   "source": [
    "### Ridge"
   ]
  },
  {
   "cell_type": "code",
   "execution_count": 140,
   "metadata": {},
   "outputs": [],
   "source": [
    "ridge = Ridge(alpha=10)"
   ]
  },
  {
   "cell_type": "code",
   "execution_count": 141,
   "metadata": {},
   "outputs": [
    {
     "name": "stderr",
     "output_type": "stream",
     "text": [
      "C:\\Users\\nolan\\Anaconda3\\lib\\site-packages\\sklearn\\linear_model\\ridge.py:147: LinAlgWarning: Ill-conditioned matrix (rcond=2.23445e-19): result may not be accurate.\n",
      "  overwrite_a=True).T\n"
     ]
    },
    {
     "data": {
      "text/plain": [
       "Ridge(alpha=10, copy_X=True, fit_intercept=True, max_iter=None, normalize=False,\n",
       "      random_state=None, solver='auto', tol=0.001)"
      ]
     },
     "execution_count": 141,
     "metadata": {},
     "output_type": "execute_result"
    }
   ],
   "source": [
    "ridge.fit(X_train, y_train)"
   ]
  },
  {
   "cell_type": "code",
   "execution_count": 142,
   "metadata": {},
   "outputs": [
    {
     "name": "stdout",
     "output_type": "stream",
     "text": [
      "0.8789351502927706\n",
      "0.8366753257202691\n"
     ]
    }
   ],
   "source": [
    "print(ridge.score(X_train, y_train))\n",
    "print(ridge.score(X_test, y_test))"
   ]
  },
  {
   "cell_type": "code",
   "execution_count": null,
   "metadata": {},
   "outputs": [],
   "source": []
  },
  {
   "cell_type": "code",
   "execution_count": 143,
   "metadata": {},
   "outputs": [],
   "source": [
    "r_alphas = np.logspace(0, 5, 100)"
   ]
  },
  {
   "cell_type": "code",
   "execution_count": 144,
   "metadata": {},
   "outputs": [],
   "source": [
    "ridge_cv = RidgeCV(alphas=r_alphas, scoring='r2', cv=5)"
   ]
  },
  {
   "cell_type": "code",
   "execution_count": 145,
   "metadata": {},
   "outputs": [
    {
     "name": "stderr",
     "output_type": "stream",
     "text": [
      "C:\\Users\\nolan\\Anaconda3\\lib\\site-packages\\sklearn\\linear_model\\ridge.py:147: LinAlgWarning: Ill-conditioned matrix (rcond=1.00736e-19): result may not be accurate.\n",
      "  overwrite_a=True).T\n",
      "C:\\Users\\nolan\\Anaconda3\\lib\\site-packages\\sklearn\\linear_model\\ridge.py:147: LinAlgWarning: Ill-conditioned matrix (rcond=1.13778e-19): result may not be accurate.\n",
      "  overwrite_a=True).T\n",
      "C:\\Users\\nolan\\Anaconda3\\lib\\site-packages\\sklearn\\linear_model\\ridge.py:147: LinAlgWarning: Ill-conditioned matrix (rcond=1.02189e-19): result may not be accurate.\n",
      "  overwrite_a=True).T\n",
      "C:\\Users\\nolan\\Anaconda3\\lib\\site-packages\\sklearn\\linear_model\\ridge.py:147: LinAlgWarning: Ill-conditioned matrix (rcond=1.16256e-19): result may not be accurate.\n",
      "  overwrite_a=True).T\n",
      "C:\\Users\\nolan\\Anaconda3\\lib\\site-packages\\sklearn\\linear_model\\ridge.py:147: LinAlgWarning: Ill-conditioned matrix (rcond=1.09767e-19): result may not be accurate.\n",
      "  overwrite_a=True).T\n",
      "C:\\Users\\nolan\\Anaconda3\\lib\\site-packages\\sklearn\\linear_model\\ridge.py:147: LinAlgWarning: Ill-conditioned matrix (rcond=1.02579e-19): result may not be accurate.\n",
      "  overwrite_a=True).T\n",
      "C:\\Users\\nolan\\Anaconda3\\lib\\site-packages\\sklearn\\linear_model\\ridge.py:147: LinAlgWarning: Ill-conditioned matrix (rcond=1.16142e-19): result may not be accurate.\n",
      "  overwrite_a=True).T\n",
      "C:\\Users\\nolan\\Anaconda3\\lib\\site-packages\\sklearn\\linear_model\\ridge.py:147: LinAlgWarning: Ill-conditioned matrix (rcond=1.04064e-19): result may not be accurate.\n",
      "  overwrite_a=True).T\n",
      "C:\\Users\\nolan\\Anaconda3\\lib\\site-packages\\sklearn\\linear_model\\ridge.py:147: LinAlgWarning: Ill-conditioned matrix (rcond=1.18595e-19): result may not be accurate.\n",
      "  overwrite_a=True).T\n",
      "C:\\Users\\nolan\\Anaconda3\\lib\\site-packages\\sklearn\\linear_model\\ridge.py:147: LinAlgWarning: Ill-conditioned matrix (rcond=1.11638e-19): result may not be accurate.\n",
      "  overwrite_a=True).T\n",
      "C:\\Users\\nolan\\Anaconda3\\lib\\site-packages\\sklearn\\linear_model\\ridge.py:147: LinAlgWarning: Ill-conditioned matrix (rcond=1.04644e-19): result may not be accurate.\n",
      "  overwrite_a=True).T\n",
      "C:\\Users\\nolan\\Anaconda3\\lib\\site-packages\\sklearn\\linear_model\\ridge.py:147: LinAlgWarning: Ill-conditioned matrix (rcond=1.18801e-19): result may not be accurate.\n",
      "  overwrite_a=True).T\n",
      "C:\\Users\\nolan\\Anaconda3\\lib\\site-packages\\sklearn\\linear_model\\ridge.py:147: LinAlgWarning: Ill-conditioned matrix (rcond=1.0617e-19): result may not be accurate.\n",
      "  overwrite_a=True).T\n",
      "C:\\Users\\nolan\\Anaconda3\\lib\\site-packages\\sklearn\\linear_model\\ridge.py:147: LinAlgWarning: Ill-conditioned matrix (rcond=1.22703e-19): result may not be accurate.\n",
      "  overwrite_a=True).T\n",
      "C:\\Users\\nolan\\Anaconda3\\lib\\site-packages\\sklearn\\linear_model\\ridge.py:147: LinAlgWarning: Ill-conditioned matrix (rcond=1.13738e-19): result may not be accurate.\n",
      "  overwrite_a=True).T\n",
      "C:\\Users\\nolan\\Anaconda3\\lib\\site-packages\\sklearn\\linear_model\\ridge.py:147: LinAlgWarning: Ill-conditioned matrix (rcond=1.06963e-19): result may not be accurate.\n",
      "  overwrite_a=True).T\n",
      "C:\\Users\\nolan\\Anaconda3\\lib\\site-packages\\sklearn\\linear_model\\ridge.py:147: LinAlgWarning: Ill-conditioned matrix (rcond=1.21786e-19): result may not be accurate.\n",
      "  overwrite_a=True).T\n",
      "C:\\Users\\nolan\\Anaconda3\\lib\\site-packages\\sklearn\\linear_model\\ridge.py:147: LinAlgWarning: Ill-conditioned matrix (rcond=1.08532e-19): result may not be accurate.\n",
      "  overwrite_a=True).T\n",
      "C:\\Users\\nolan\\Anaconda3\\lib\\site-packages\\sklearn\\linear_model\\ridge.py:147: LinAlgWarning: Ill-conditioned matrix (rcond=1.25145e-19): result may not be accurate.\n",
      "  overwrite_a=True).T\n",
      "C:\\Users\\nolan\\Anaconda3\\lib\\site-packages\\sklearn\\linear_model\\ridge.py:147: LinAlgWarning: Ill-conditioned matrix (rcond=1.16096e-19): result may not be accurate.\n",
      "  overwrite_a=True).T\n",
      "C:\\Users\\nolan\\Anaconda3\\lib\\site-packages\\sklearn\\linear_model\\ridge.py:147: LinAlgWarning: Ill-conditioned matrix (rcond=1.09568e-19): result may not be accurate.\n",
      "  overwrite_a=True).T\n",
      "C:\\Users\\nolan\\Anaconda3\\lib\\site-packages\\sklearn\\linear_model\\ridge.py:147: LinAlgWarning: Ill-conditioned matrix (rcond=1.2514e-19): result may not be accurate.\n",
      "  overwrite_a=True).T\n",
      "C:\\Users\\nolan\\Anaconda3\\lib\\site-packages\\sklearn\\linear_model\\ridge.py:147: LinAlgWarning: Ill-conditioned matrix (rcond=1.11184e-19): result may not be accurate.\n",
      "  overwrite_a=True).T\n",
      "C:\\Users\\nolan\\Anaconda3\\lib\\site-packages\\sklearn\\linear_model\\ridge.py:147: LinAlgWarning: Ill-conditioned matrix (rcond=1.27887e-19): result may not be accurate.\n",
      "  overwrite_a=True).T\n",
      "C:\\Users\\nolan\\Anaconda3\\lib\\site-packages\\sklearn\\linear_model\\ridge.py:147: LinAlgWarning: Ill-conditioned matrix (rcond=1.18744e-19): result may not be accurate.\n",
      "  overwrite_a=True).T\n",
      "C:\\Users\\nolan\\Anaconda3\\lib\\site-packages\\sklearn\\linear_model\\ridge.py:147: LinAlgWarning: Ill-conditioned matrix (rcond=1.32909e-19): result may not be accurate.\n",
      "  overwrite_a=True).T\n",
      "C:\\Users\\nolan\\Anaconda3\\lib\\site-packages\\sklearn\\linear_model\\ridge.py:147: LinAlgWarning: Ill-conditioned matrix (rcond=1.28909e-19): result may not be accurate.\n",
      "  overwrite_a=True).T\n",
      "C:\\Users\\nolan\\Anaconda3\\lib\\site-packages\\sklearn\\linear_model\\ridge.py:147: LinAlgWarning: Ill-conditioned matrix (rcond=1.14159e-19): result may not be accurate.\n",
      "  overwrite_a=True).T\n",
      "C:\\Users\\nolan\\Anaconda3\\lib\\site-packages\\sklearn\\linear_model\\ridge.py:147: LinAlgWarning: Ill-conditioned matrix (rcond=1.30964e-19): result may not be accurate.\n",
      "  overwrite_a=True).T\n",
      "C:\\Users\\nolan\\Anaconda3\\lib\\site-packages\\sklearn\\linear_model\\ridge.py:147: LinAlgWarning: Ill-conditioned matrix (rcond=1.21716e-19): result may not be accurate.\n",
      "  overwrite_a=True).T\n",
      "C:\\Users\\nolan\\Anaconda3\\lib\\site-packages\\sklearn\\linear_model\\ridge.py:147: LinAlgWarning: Ill-conditioned matrix (rcond=1.36523e-19): result may not be accurate.\n",
      "  overwrite_a=True).T\n",
      "C:\\Users\\nolan\\Anaconda3\\lib\\site-packages\\sklearn\\linear_model\\ridge.py:147: LinAlgWarning: Ill-conditioned matrix (rcond=1.33147e-19): result may not be accurate.\n",
      "  overwrite_a=True).T\n",
      "C:\\Users\\nolan\\Anaconda3\\lib\\site-packages\\sklearn\\linear_model\\ridge.py:147: LinAlgWarning: Ill-conditioned matrix (rcond=1.17497e-19): result may not be accurate.\n",
      "  overwrite_a=True).T\n",
      "C:\\Users\\nolan\\Anaconda3\\lib\\site-packages\\sklearn\\linear_model\\ridge.py:147: LinAlgWarning: Ill-conditioned matrix (rcond=1.34417e-19): result may not be accurate.\n",
      "  overwrite_a=True).T\n",
      "C:\\Users\\nolan\\Anaconda3\\lib\\site-packages\\sklearn\\linear_model\\ridge.py:147: LinAlgWarning: Ill-conditioned matrix (rcond=1.25053e-19): result may not be accurate.\n",
      "  overwrite_a=True).T\n",
      "C:\\Users\\nolan\\Anaconda3\\lib\\site-packages\\sklearn\\linear_model\\ridge.py:147: LinAlgWarning: Ill-conditioned matrix (rcond=1.40584e-19): result may not be accurate.\n",
      "  overwrite_a=True).T\n",
      "C:\\Users\\nolan\\Anaconda3\\lib\\site-packages\\sklearn\\linear_model\\ridge.py:147: LinAlgWarning: Ill-conditioned matrix (rcond=1.37915e-19): result may not be accurate.\n",
      "  overwrite_a=True).T\n",
      "C:\\Users\\nolan\\Anaconda3\\lib\\site-packages\\sklearn\\linear_model\\ridge.py:147: LinAlgWarning: Ill-conditioned matrix (rcond=1.21242e-19): result may not be accurate.\n",
      "  overwrite_a=True).T\n",
      "C:\\Users\\nolan\\Anaconda3\\lib\\site-packages\\sklearn\\linear_model\\ridge.py:147: LinAlgWarning: Ill-conditioned matrix (rcond=1.38291e-19): result may not be accurate.\n",
      "  overwrite_a=True).T\n",
      "C:\\Users\\nolan\\Anaconda3\\lib\\site-packages\\sklearn\\linear_model\\ridge.py:147: LinAlgWarning: Ill-conditioned matrix (rcond=1.28799e-19): result may not be accurate.\n",
      "  overwrite_a=True).T\n",
      "C:\\Users\\nolan\\Anaconda3\\lib\\site-packages\\sklearn\\linear_model\\ridge.py:147: LinAlgWarning: Ill-conditioned matrix (rcond=1.45147e-19): result may not be accurate.\n",
      "  overwrite_a=True).T\n",
      "C:\\Users\\nolan\\Anaconda3\\lib\\site-packages\\sklearn\\linear_model\\ridge.py:147: LinAlgWarning: Ill-conditioned matrix (rcond=1.4328e-19): result may not be accurate.\n",
      "  overwrite_a=True).T\n",
      "C:\\Users\\nolan\\Anaconda3\\lib\\site-packages\\sklearn\\linear_model\\ridge.py:147: LinAlgWarning: Ill-conditioned matrix (rcond=1.25443e-19): result may not be accurate.\n",
      "  overwrite_a=True).T\n",
      "C:\\Users\\nolan\\Anaconda3\\lib\\site-packages\\sklearn\\linear_model\\ridge.py:147: LinAlgWarning: Ill-conditioned matrix (rcond=1.42639e-19): result may not be accurate.\n",
      "  overwrite_a=True).T\n",
      "C:\\Users\\nolan\\Anaconda3\\lib\\site-packages\\sklearn\\linear_model\\ridge.py:147: LinAlgWarning: Ill-conditioned matrix (rcond=1.33003e-19): result may not be accurate.\n",
      "  overwrite_a=True).T\n",
      "C:\\Users\\nolan\\Anaconda3\\lib\\site-packages\\sklearn\\linear_model\\ridge.py:147: LinAlgWarning: Ill-conditioned matrix (rcond=1.50276e-19): result may not be accurate.\n",
      "  overwrite_a=True).T\n",
      "C:\\Users\\nolan\\Anaconda3\\lib\\site-packages\\sklearn\\linear_model\\ridge.py:147: LinAlgWarning: Ill-conditioned matrix (rcond=1.49316e-19): result may not be accurate.\n",
      "  overwrite_a=True).T\n",
      "C:\\Users\\nolan\\Anaconda3\\lib\\site-packages\\sklearn\\linear_model\\ridge.py:147: LinAlgWarning: Ill-conditioned matrix (rcond=1.30155e-19): result may not be accurate.\n",
      "  overwrite_a=True).T\n",
      "C:\\Users\\nolan\\Anaconda3\\lib\\site-packages\\sklearn\\linear_model\\ridge.py:147: LinAlgWarning: Ill-conditioned matrix (rcond=1.47516e-19): result may not be accurate.\n",
      "  overwrite_a=True).T\n",
      "C:\\Users\\nolan\\Anaconda3\\lib\\site-packages\\sklearn\\linear_model\\ridge.py:147: LinAlgWarning: Ill-conditioned matrix (rcond=1.37722e-19): result may not be accurate.\n",
      "  overwrite_a=True).T\n",
      "C:\\Users\\nolan\\Anaconda3\\lib\\site-packages\\sklearn\\linear_model\\ridge.py:147: LinAlgWarning: Ill-conditioned matrix (rcond=1.56039e-19): result may not be accurate.\n",
      "  overwrite_a=True).T\n",
      "C:\\Users\\nolan\\Anaconda3\\lib\\site-packages\\sklearn\\linear_model\\ridge.py:147: LinAlgWarning: Ill-conditioned matrix (rcond=1.56108e-19): result may not be accurate.\n",
      "  overwrite_a=True).T\n",
      "C:\\Users\\nolan\\Anaconda3\\lib\\site-packages\\sklearn\\linear_model\\ridge.py:147: LinAlgWarning: Ill-conditioned matrix (rcond=1.35441e-19): result may not be accurate.\n",
      "  overwrite_a=True).T\n",
      "C:\\Users\\nolan\\Anaconda3\\lib\\site-packages\\sklearn\\linear_model\\ridge.py:147: LinAlgWarning: Ill-conditioned matrix (rcond=1.52988e-19): result may not be accurate.\n",
      "  overwrite_a=True).T\n",
      "C:\\Users\\nolan\\Anaconda3\\lib\\site-packages\\sklearn\\linear_model\\ridge.py:147: LinAlgWarning: Ill-conditioned matrix (rcond=1.43019e-19): result may not be accurate.\n",
      "  overwrite_a=True).T\n",
      "C:\\Users\\nolan\\Anaconda3\\lib\\site-packages\\sklearn\\linear_model\\ridge.py:147: LinAlgWarning: Ill-conditioned matrix (rcond=1.62516e-19): result may not be accurate.\n",
      "  overwrite_a=True).T\n",
      "C:\\Users\\nolan\\Anaconda3\\lib\\site-packages\\sklearn\\linear_model\\ridge.py:147: LinAlgWarning: Ill-conditioned matrix (rcond=1.63752e-19): result may not be accurate.\n",
      "  overwrite_a=True).T\n",
      "C:\\Users\\nolan\\Anaconda3\\lib\\site-packages\\sklearn\\linear_model\\ridge.py:147: LinAlgWarning: Ill-conditioned matrix (rcond=1.41369e-19): result may not be accurate.\n",
      "  overwrite_a=True).T\n",
      "C:\\Users\\nolan\\Anaconda3\\lib\\site-packages\\sklearn\\linear_model\\ridge.py:147: LinAlgWarning: Ill-conditioned matrix (rcond=1.59127e-19): result may not be accurate.\n",
      "  overwrite_a=True).T\n",
      "C:\\Users\\nolan\\Anaconda3\\lib\\site-packages\\sklearn\\linear_model\\ridge.py:147: LinAlgWarning: Ill-conditioned matrix (rcond=1.48964e-19): result may not be accurate.\n",
      "  overwrite_a=True).T\n",
      "C:\\Users\\nolan\\Anaconda3\\lib\\site-packages\\sklearn\\linear_model\\ridge.py:147: LinAlgWarning: Ill-conditioned matrix (rcond=1.69796e-19): result may not be accurate.\n",
      "  overwrite_a=True).T\n",
      "C:\\Users\\nolan\\Anaconda3\\lib\\site-packages\\sklearn\\linear_model\\ridge.py:147: LinAlgWarning: Ill-conditioned matrix (rcond=1.67295e-19): result may not be accurate.\n",
      "  overwrite_a=True).T\n",
      "C:\\Users\\nolan\\Anaconda3\\lib\\site-packages\\sklearn\\linear_model\\ridge.py:147: LinAlgWarning: Ill-conditioned matrix (rcond=1.48017e-19): result may not be accurate.\n",
      "  overwrite_a=True).T\n",
      "C:\\Users\\nolan\\Anaconda3\\lib\\site-packages\\sklearn\\linear_model\\ridge.py:147: LinAlgWarning: Ill-conditioned matrix (rcond=1.66012e-19): result may not be accurate.\n",
      "  overwrite_a=True).T\n",
      "C:\\Users\\nolan\\Anaconda3\\lib\\site-packages\\sklearn\\linear_model\\ridge.py:147: LinAlgWarning: Ill-conditioned matrix (rcond=1.55635e-19): result may not be accurate.\n",
      "  overwrite_a=True).T\n",
      "C:\\Users\\nolan\\Anaconda3\\lib\\site-packages\\sklearn\\linear_model\\ridge.py:147: LinAlgWarning: Ill-conditioned matrix (rcond=1.7798e-19): result may not be accurate.\n",
      "  overwrite_a=True).T\n",
      "C:\\Users\\nolan\\Anaconda3\\lib\\site-packages\\sklearn\\linear_model\\ridge.py:147: LinAlgWarning: Ill-conditioned matrix (rcond=1.74823e-19): result may not be accurate.\n",
      "  overwrite_a=True).T\n",
      "C:\\Users\\nolan\\Anaconda3\\lib\\site-packages\\sklearn\\linear_model\\ridge.py:147: LinAlgWarning: Ill-conditioned matrix (rcond=1.55473e-19): result may not be accurate.\n",
      "  overwrite_a=True).T\n",
      "C:\\Users\\nolan\\Anaconda3\\lib\\site-packages\\sklearn\\linear_model\\ridge.py:147: LinAlgWarning: Ill-conditioned matrix (rcond=1.73735e-19): result may not be accurate.\n",
      "  overwrite_a=True).T\n",
      "C:\\Users\\nolan\\Anaconda3\\lib\\site-packages\\sklearn\\linear_model\\ridge.py:147: LinAlgWarning: Ill-conditioned matrix (rcond=1.63123e-19): result may not be accurate.\n",
      "  overwrite_a=True).T\n",
      "C:\\Users\\nolan\\Anaconda3\\lib\\site-packages\\sklearn\\linear_model\\ridge.py:147: LinAlgWarning: Ill-conditioned matrix (rcond=1.87179e-19): result may not be accurate.\n",
      "  overwrite_a=True).T\n",
      "C:\\Users\\nolan\\Anaconda3\\lib\\site-packages\\sklearn\\linear_model\\ridge.py:147: LinAlgWarning: Ill-conditioned matrix (rcond=1.83255e-19): result may not be accurate.\n",
      "  overwrite_a=True).T\n",
      "C:\\Users\\nolan\\Anaconda3\\lib\\site-packages\\sklearn\\linear_model\\ridge.py:147: LinAlgWarning: Ill-conditioned matrix (rcond=1.63834e-19): result may not be accurate.\n",
      "  overwrite_a=True).T\n",
      "C:\\Users\\nolan\\Anaconda3\\lib\\site-packages\\sklearn\\linear_model\\ridge.py:147: LinAlgWarning: Ill-conditioned matrix (rcond=1.82396e-19): result may not be accurate.\n",
      "  overwrite_a=True).T\n",
      "C:\\Users\\nolan\\Anaconda3\\lib\\site-packages\\sklearn\\linear_model\\ridge.py:147: LinAlgWarning: Ill-conditioned matrix (rcond=1.71525e-19): result may not be accurate.\n",
      "  overwrite_a=True).T\n",
      "C:\\Users\\nolan\\Anaconda3\\lib\\site-packages\\sklearn\\linear_model\\ridge.py:147: LinAlgWarning: Ill-conditioned matrix (rcond=1.9752e-19): result may not be accurate.\n",
      "  overwrite_a=True).T\n"
     ]
    },
    {
     "name": "stderr",
     "output_type": "stream",
     "text": [
      "C:\\Users\\nolan\\Anaconda3\\lib\\site-packages\\sklearn\\linear_model\\ridge.py:147: LinAlgWarning: Ill-conditioned matrix (rcond=1.92689e-19): result may not be accurate.\n",
      "  overwrite_a=True).T\n",
      "C:\\Users\\nolan\\Anaconda3\\lib\\site-packages\\sklearn\\linear_model\\ridge.py:147: LinAlgWarning: Ill-conditioned matrix (rcond=1.73209e-19): result may not be accurate.\n",
      "  overwrite_a=True).T\n",
      "C:\\Users\\nolan\\Anaconda3\\lib\\site-packages\\sklearn\\linear_model\\ridge.py:147: LinAlgWarning: Ill-conditioned matrix (rcond=1.9211e-19): result may not be accurate.\n",
      "  overwrite_a=True).T\n",
      "C:\\Users\\nolan\\Anaconda3\\lib\\site-packages\\sklearn\\linear_model\\ridge.py:147: LinAlgWarning: Ill-conditioned matrix (rcond=1.80954e-19): result may not be accurate.\n",
      "  overwrite_a=True).T\n",
      "C:\\Users\\nolan\\Anaconda3\\lib\\site-packages\\sklearn\\linear_model\\ridge.py:147: LinAlgWarning: Ill-conditioned matrix (rcond=2.09145e-19): result may not be accurate.\n",
      "  overwrite_a=True).T\n",
      "C:\\Users\\nolan\\Anaconda3\\lib\\site-packages\\sklearn\\linear_model\\ridge.py:147: LinAlgWarning: Ill-conditioned matrix (rcond=2.0327e-19): result may not be accurate.\n",
      "  overwrite_a=True).T\n",
      "C:\\Users\\nolan\\Anaconda3\\lib\\site-packages\\sklearn\\linear_model\\ridge.py:147: LinAlgWarning: Ill-conditioned matrix (rcond=1.83709e-19): result may not be accurate.\n",
      "  overwrite_a=True).T\n",
      "C:\\Users\\nolan\\Anaconda3\\lib\\site-packages\\sklearn\\linear_model\\ridge.py:147: LinAlgWarning: Ill-conditioned matrix (rcond=2.02997e-19): result may not be accurate.\n",
      "  overwrite_a=True).T\n",
      "C:\\Users\\nolan\\Anaconda3\\lib\\site-packages\\sklearn\\linear_model\\ridge.py:147: LinAlgWarning: Ill-conditioned matrix (rcond=1.91536e-19): result may not be accurate.\n",
      "  overwrite_a=True).T\n",
      "C:\\Users\\nolan\\Anaconda3\\lib\\site-packages\\sklearn\\linear_model\\ridge.py:147: LinAlgWarning: Ill-conditioned matrix (rcond=2.2218e-19): result may not be accurate.\n",
      "  overwrite_a=True).T\n",
      "C:\\Users\\nolan\\Anaconda3\\lib\\site-packages\\sklearn\\linear_model\\ridge.py:147: LinAlgWarning: Ill-conditioned matrix (rcond=2.15137e-19): result may not be accurate.\n",
      "  overwrite_a=True).T\n",
      "C:\\Users\\nolan\\Anaconda3\\lib\\site-packages\\sklearn\\linear_model\\ridge.py:147: LinAlgWarning: Ill-conditioned matrix (rcond=1.9548e-19): result may not be accurate.\n",
      "  overwrite_a=True).T\n",
      "C:\\Users\\nolan\\Anaconda3\\lib\\site-packages\\sklearn\\linear_model\\ridge.py:147: LinAlgWarning: Ill-conditioned matrix (rcond=2.15196e-19): result may not be accurate.\n",
      "  overwrite_a=True).T\n",
      "C:\\Users\\nolan\\Anaconda3\\lib\\site-packages\\sklearn\\linear_model\\ridge.py:147: LinAlgWarning: Ill-conditioned matrix (rcond=2.03412e-19): result may not be accurate.\n",
      "  overwrite_a=True).T\n",
      "C:\\Users\\nolan\\Anaconda3\\lib\\site-packages\\sklearn\\linear_model\\ridge.py:147: LinAlgWarning: Ill-conditioned matrix (rcond=2.36832e-19): result may not be accurate.\n",
      "  overwrite_a=True).T\n",
      "C:\\Users\\nolan\\Anaconda3\\lib\\site-packages\\sklearn\\linear_model\\ridge.py:147: LinAlgWarning: Ill-conditioned matrix (rcond=2.28445e-19): result may not be accurate.\n",
      "  overwrite_a=True).T\n",
      "C:\\Users\\nolan\\Anaconda3\\lib\\site-packages\\sklearn\\linear_model\\ridge.py:147: LinAlgWarning: Ill-conditioned matrix (rcond=2.0868e-19): result may not be accurate.\n",
      "  overwrite_a=True).T\n",
      "C:\\Users\\nolan\\Anaconda3\\lib\\site-packages\\sklearn\\linear_model\\ridge.py:147: LinAlgWarning: Ill-conditioned matrix (rcond=2.28851e-19): result may not be accurate.\n",
      "  overwrite_a=True).T\n",
      "C:\\Users\\nolan\\Anaconda3\\lib\\site-packages\\sklearn\\linear_model\\ridge.py:147: LinAlgWarning: Ill-conditioned matrix (rcond=2.16741e-19): result may not be accurate.\n",
      "  overwrite_a=True).T\n",
      "C:\\Users\\nolan\\Anaconda3\\lib\\site-packages\\sklearn\\linear_model\\ridge.py:147: LinAlgWarning: Ill-conditioned matrix (rcond=2.53303e-19): result may not be accurate.\n",
      "  overwrite_a=True).T\n",
      "C:\\Users\\nolan\\Anaconda3\\lib\\site-packages\\sklearn\\linear_model\\ridge.py:147: LinAlgWarning: Ill-conditioned matrix (rcond=2.43372e-19): result may not be accurate.\n",
      "  overwrite_a=True).T\n",
      "C:\\Users\\nolan\\Anaconda3\\lib\\site-packages\\sklearn\\linear_model\\ridge.py:147: LinAlgWarning: Ill-conditioned matrix (rcond=2.23485e-19): result may not be accurate.\n",
      "  overwrite_a=True).T\n",
      "C:\\Users\\nolan\\Anaconda3\\lib\\site-packages\\sklearn\\linear_model\\ridge.py:147: LinAlgWarning: Ill-conditioned matrix (rcond=2.44079e-19): result may not be accurate.\n",
      "  overwrite_a=True).T\n",
      "C:\\Users\\nolan\\Anaconda3\\lib\\site-packages\\sklearn\\linear_model\\ridge.py:147: LinAlgWarning: Ill-conditioned matrix (rcond=2.317e-19): result may not be accurate.\n",
      "  overwrite_a=True).T\n",
      "C:\\Users\\nolan\\Anaconda3\\lib\\site-packages\\sklearn\\linear_model\\ridge.py:147: LinAlgWarning: Ill-conditioned matrix (rcond=2.67316e-19): result may not be accurate.\n",
      "  overwrite_a=True).T\n",
      "C:\\Users\\nolan\\Anaconda3\\lib\\site-packages\\sklearn\\linear_model\\ridge.py:147: LinAlgWarning: Ill-conditioned matrix (rcond=2.60114e-19): result may not be accurate.\n",
      "  overwrite_a=True).T\n",
      "C:\\Users\\nolan\\Anaconda3\\lib\\site-packages\\sklearn\\linear_model\\ridge.py:147: LinAlgWarning: Ill-conditioned matrix (rcond=2.4009e-19): result may not be accurate.\n",
      "  overwrite_a=True).T\n",
      "C:\\Users\\nolan\\Anaconda3\\lib\\site-packages\\sklearn\\linear_model\\ridge.py:147: LinAlgWarning: Ill-conditioned matrix (rcond=2.61026e-19): result may not be accurate.\n",
      "  overwrite_a=True).T\n",
      "C:\\Users\\nolan\\Anaconda3\\lib\\site-packages\\sklearn\\linear_model\\ridge.py:147: LinAlgWarning: Ill-conditioned matrix (rcond=2.48366e-19): result may not be accurate.\n",
      "  overwrite_a=True).T\n",
      "C:\\Users\\nolan\\Anaconda3\\lib\\site-packages\\sklearn\\linear_model\\ridge.py:147: LinAlgWarning: Ill-conditioned matrix (rcond=2.86515e-19): result may not be accurate.\n",
      "  overwrite_a=True).T\n",
      "C:\\Users\\nolan\\Anaconda3\\lib\\site-packages\\sklearn\\linear_model\\ridge.py:147: LinAlgWarning: Ill-conditioned matrix (rcond=2.78831e-19): result may not be accurate.\n",
      "  overwrite_a=True).T\n",
      "C:\\Users\\nolan\\Anaconda3\\lib\\site-packages\\sklearn\\linear_model\\ridge.py:147: LinAlgWarning: Ill-conditioned matrix (rcond=2.58721e-19): result may not be accurate.\n",
      "  overwrite_a=True).T\n",
      "C:\\Users\\nolan\\Anaconda3\\lib\\site-packages\\sklearn\\linear_model\\ridge.py:147: LinAlgWarning: Ill-conditioned matrix (rcond=2.79977e-19): result may not be accurate.\n",
      "  overwrite_a=True).T\n",
      "C:\\Users\\nolan\\Anaconda3\\lib\\site-packages\\sklearn\\linear_model\\ridge.py:147: LinAlgWarning: Ill-conditioned matrix (rcond=2.66972e-19): result may not be accurate.\n",
      "  overwrite_a=True).T\n",
      "C:\\Users\\nolan\\Anaconda3\\lib\\site-packages\\sklearn\\linear_model\\ridge.py:147: LinAlgWarning: Ill-conditioned matrix (rcond=3.08035e-19): result may not be accurate.\n",
      "  overwrite_a=True).T\n",
      "C:\\Users\\nolan\\Anaconda3\\lib\\site-packages\\sklearn\\linear_model\\ridge.py:147: LinAlgWarning: Ill-conditioned matrix (rcond=2.99789e-19): result may not be accurate.\n",
      "  overwrite_a=True).T\n",
      "C:\\Users\\nolan\\Anaconda3\\lib\\site-packages\\sklearn\\linear_model\\ridge.py:147: LinAlgWarning: Ill-conditioned matrix (rcond=2.79603e-19): result may not be accurate.\n",
      "  overwrite_a=True).T\n",
      "C:\\Users\\nolan\\Anaconda3\\lib\\site-packages\\sklearn\\linear_model\\ridge.py:147: LinAlgWarning: Ill-conditioned matrix (rcond=3.01195e-19): result may not be accurate.\n",
      "  overwrite_a=True).T\n",
      "C:\\Users\\nolan\\Anaconda3\\lib\\site-packages\\sklearn\\linear_model\\ridge.py:147: LinAlgWarning: Ill-conditioned matrix (rcond=2.87738e-19): result may not be accurate.\n",
      "  overwrite_a=True).T\n",
      "C:\\Users\\nolan\\Anaconda3\\lib\\site-packages\\sklearn\\linear_model\\ridge.py:147: LinAlgWarning: Ill-conditioned matrix (rcond=3.32161e-19): result may not be accurate.\n",
      "  overwrite_a=True).T\n",
      "C:\\Users\\nolan\\Anaconda3\\lib\\site-packages\\sklearn\\linear_model\\ridge.py:147: LinAlgWarning: Ill-conditioned matrix (rcond=3.233e-19): result may not be accurate.\n",
      "  overwrite_a=True).T\n",
      "C:\\Users\\nolan\\Anaconda3\\lib\\site-packages\\sklearn\\linear_model\\ridge.py:147: LinAlgWarning: Ill-conditioned matrix (rcond=3.02958e-19): result may not be accurate.\n",
      "  overwrite_a=True).T\n",
      "C:\\Users\\nolan\\Anaconda3\\lib\\site-packages\\sklearn\\linear_model\\ridge.py:147: LinAlgWarning: Ill-conditioned matrix (rcond=3.24987e-19): result may not be accurate.\n",
      "  overwrite_a=True).T\n",
      "C:\\Users\\nolan\\Anaconda3\\lib\\site-packages\\sklearn\\linear_model\\ridge.py:147: LinAlgWarning: Ill-conditioned matrix (rcond=3.11033e-19): result may not be accurate.\n",
      "  overwrite_a=True).T\n",
      "C:\\Users\\nolan\\Anaconda3\\lib\\site-packages\\sklearn\\linear_model\\ridge.py:147: LinAlgWarning: Ill-conditioned matrix (rcond=3.59218e-19): result may not be accurate.\n",
      "  overwrite_a=True).T\n",
      "C:\\Users\\nolan\\Anaconda3\\lib\\site-packages\\sklearn\\linear_model\\ridge.py:147: LinAlgWarning: Ill-conditioned matrix (rcond=3.49683e-19): result may not be accurate.\n",
      "  overwrite_a=True).T\n",
      "C:\\Users\\nolan\\Anaconda3\\lib\\site-packages\\sklearn\\linear_model\\ridge.py:147: LinAlgWarning: Ill-conditioned matrix (rcond=3.29176e-19): result may not be accurate.\n",
      "  overwrite_a=True).T\n",
      "C:\\Users\\nolan\\Anaconda3\\lib\\site-packages\\sklearn\\linear_model\\ridge.py:147: LinAlgWarning: Ill-conditioned matrix (rcond=3.51672e-19): result may not be accurate.\n",
      "  overwrite_a=True).T\n",
      "C:\\Users\\nolan\\Anaconda3\\lib\\site-packages\\sklearn\\linear_model\\ridge.py:147: LinAlgWarning: Ill-conditioned matrix (rcond=3.37171e-19): result may not be accurate.\n",
      "  overwrite_a=True).T\n",
      "C:\\Users\\nolan\\Anaconda3\\lib\\site-packages\\sklearn\\linear_model\\ridge.py:147: LinAlgWarning: Ill-conditioned matrix (rcond=3.89571e-19): result may not be accurate.\n",
      "  overwrite_a=True).T\n",
      "C:\\Users\\nolan\\Anaconda3\\lib\\site-packages\\sklearn\\linear_model\\ridge.py:147: LinAlgWarning: Ill-conditioned matrix (rcond=3.79298e-19): result may not be accurate.\n",
      "  overwrite_a=True).T\n",
      "C:\\Users\\nolan\\Anaconda3\\lib\\site-packages\\sklearn\\linear_model\\ridge.py:147: LinAlgWarning: Ill-conditioned matrix (rcond=3.58589e-19): result may not be accurate.\n",
      "  overwrite_a=True).T\n",
      "C:\\Users\\nolan\\Anaconda3\\lib\\site-packages\\sklearn\\linear_model\\ridge.py:147: LinAlgWarning: Ill-conditioned matrix (rcond=3.81612e-19): result may not be accurate.\n",
      "  overwrite_a=True).T\n",
      "C:\\Users\\nolan\\Anaconda3\\lib\\site-packages\\sklearn\\linear_model\\ridge.py:147: LinAlgWarning: Ill-conditioned matrix (rcond=3.66508e-19): result may not be accurate.\n",
      "  overwrite_a=True).T\n",
      "C:\\Users\\nolan\\Anaconda3\\lib\\site-packages\\sklearn\\linear_model\\ridge.py:147: LinAlgWarning: Ill-conditioned matrix (rcond=4.2364e-19): result may not be accurate.\n",
      "  overwrite_a=True).T\n",
      "C:\\Users\\nolan\\Anaconda3\\lib\\site-packages\\sklearn\\linear_model\\ridge.py:147: LinAlgWarning: Ill-conditioned matrix (rcond=4.12463e-19): result may not be accurate.\n",
      "  overwrite_a=True).T\n",
      "C:\\Users\\nolan\\Anaconda3\\lib\\site-packages\\sklearn\\linear_model\\ridge.py:147: LinAlgWarning: Ill-conditioned matrix (rcond=3.9154e-19): result may not be accurate.\n",
      "  overwrite_a=True).T\n",
      "C:\\Users\\nolan\\Anaconda3\\lib\\site-packages\\sklearn\\linear_model\\ridge.py:147: LinAlgWarning: Ill-conditioned matrix (rcond=4.15217e-19): result may not be accurate.\n",
      "  overwrite_a=True).T\n",
      "C:\\Users\\nolan\\Anaconda3\\lib\\site-packages\\sklearn\\linear_model\\ridge.py:147: LinAlgWarning: Ill-conditioned matrix (rcond=3.99448e-19): result may not be accurate.\n",
      "  overwrite_a=True).T\n",
      "C:\\Users\\nolan\\Anaconda3\\lib\\site-packages\\sklearn\\linear_model\\ridge.py:147: LinAlgWarning: Ill-conditioned matrix (rcond=4.61897e-19): result may not be accurate.\n",
      "  overwrite_a=True).T\n",
      "C:\\Users\\nolan\\Anaconda3\\lib\\site-packages\\sklearn\\linear_model\\ridge.py:147: LinAlgWarning: Ill-conditioned matrix (rcond=4.49672e-19): result may not be accurate.\n",
      "  overwrite_a=True).T\n",
      "C:\\Users\\nolan\\Anaconda3\\lib\\site-packages\\sklearn\\linear_model\\ridge.py:147: LinAlgWarning: Ill-conditioned matrix (rcond=4.2857e-19): result may not be accurate.\n",
      "  overwrite_a=True).T\n",
      "C:\\Users\\nolan\\Anaconda3\\lib\\site-packages\\sklearn\\linear_model\\ridge.py:147: LinAlgWarning: Ill-conditioned matrix (rcond=4.52952e-19): result may not be accurate.\n",
      "  overwrite_a=True).T\n",
      "C:\\Users\\nolan\\Anaconda3\\lib\\site-packages\\sklearn\\linear_model\\ridge.py:147: LinAlgWarning: Ill-conditioned matrix (rcond=4.36451e-19): result may not be accurate.\n",
      "  overwrite_a=True).T\n",
      "C:\\Users\\nolan\\Anaconda3\\lib\\site-packages\\sklearn\\linear_model\\ridge.py:147: LinAlgWarning: Ill-conditioned matrix (rcond=5.04885e-19): result may not be accurate.\n",
      "  overwrite_a=True).T\n",
      "C:\\Users\\nolan\\Anaconda3\\lib\\site-packages\\sklearn\\linear_model\\ridge.py:147: LinAlgWarning: Ill-conditioned matrix (rcond=4.91484e-19): result may not be accurate.\n",
      "  overwrite_a=True).T\n",
      "C:\\Users\\nolan\\Anaconda3\\lib\\site-packages\\sklearn\\linear_model\\ridge.py:147: LinAlgWarning: Ill-conditioned matrix (rcond=4.7021e-19): result may not be accurate.\n",
      "  overwrite_a=True).T\n",
      "C:\\Users\\nolan\\Anaconda3\\lib\\site-packages\\sklearn\\linear_model\\ridge.py:147: LinAlgWarning: Ill-conditioned matrix (rcond=4.95349e-19): result may not be accurate.\n",
      "  overwrite_a=True).T\n",
      "C:\\Users\\nolan\\Anaconda3\\lib\\site-packages\\sklearn\\linear_model\\ridge.py:147: LinAlgWarning: Ill-conditioned matrix (rcond=4.7804e-19): result may not be accurate.\n",
      "  overwrite_a=True).T\n",
      "C:\\Users\\nolan\\Anaconda3\\lib\\site-packages\\sklearn\\linear_model\\ridge.py:147: LinAlgWarning: Ill-conditioned matrix (rcond=5.5322e-19): result may not be accurate.\n",
      "  overwrite_a=True).T\n",
      "C:\\Users\\nolan\\Anaconda3\\lib\\site-packages\\sklearn\\linear_model\\ridge.py:147: LinAlgWarning: Ill-conditioned matrix (rcond=5.38497e-19): result may not be accurate.\n",
      "  overwrite_a=True).T\n",
      "C:\\Users\\nolan\\Anaconda3\\lib\\site-packages\\sklearn\\linear_model\\ridge.py:147: LinAlgWarning: Ill-conditioned matrix (rcond=5.17065e-19): result may not be accurate.\n",
      "  overwrite_a=True).T\n",
      "C:\\Users\\nolan\\Anaconda3\\lib\\site-packages\\sklearn\\linear_model\\ridge.py:147: LinAlgWarning: Ill-conditioned matrix (rcond=5.42948e-19): result may not be accurate.\n",
      "  overwrite_a=True).T\n",
      "C:\\Users\\nolan\\Anaconda3\\lib\\site-packages\\sklearn\\linear_model\\ridge.py:147: LinAlgWarning: Ill-conditioned matrix (rcond=5.24812e-19): result may not be accurate.\n",
      "  overwrite_a=True).T\n",
      "C:\\Users\\nolan\\Anaconda3\\lib\\site-packages\\sklearn\\linear_model\\ridge.py:147: LinAlgWarning: Ill-conditioned matrix (rcond=6.07609e-19): result may not be accurate.\n",
      "  overwrite_a=True).T\n",
      "C:\\Users\\nolan\\Anaconda3\\lib\\site-packages\\sklearn\\linear_model\\ridge.py:147: LinAlgWarning: Ill-conditioned matrix (rcond=5.91395e-19): result may not be accurate.\n",
      "  overwrite_a=True).T\n",
      "C:\\Users\\nolan\\Anaconda3\\lib\\site-packages\\sklearn\\linear_model\\ridge.py:147: LinAlgWarning: Ill-conditioned matrix (rcond=5.69599e-19): result may not be accurate.\n",
      "  overwrite_a=True).T\n",
      "C:\\Users\\nolan\\Anaconda3\\lib\\site-packages\\sklearn\\linear_model\\ridge.py:147: LinAlgWarning: Ill-conditioned matrix (rcond=5.96223e-19): result may not be accurate.\n",
      "  overwrite_a=True).T\n"
     ]
    },
    {
     "name": "stderr",
     "output_type": "stream",
     "text": [
      "C:\\Users\\nolan\\Anaconda3\\lib\\site-packages\\sklearn\\linear_model\\ridge.py:147: LinAlgWarning: Ill-conditioned matrix (rcond=5.77449e-19): result may not be accurate.\n",
      "  overwrite_a=True).T\n",
      "C:\\Users\\nolan\\Anaconda3\\lib\\site-packages\\sklearn\\linear_model\\ridge.py:147: LinAlgWarning: Ill-conditioned matrix (rcond=6.68857e-19): result may not be accurate.\n",
      "  overwrite_a=True).T\n",
      "C:\\Users\\nolan\\Anaconda3\\lib\\site-packages\\sklearn\\linear_model\\ridge.py:147: LinAlgWarning: Ill-conditioned matrix (rcond=6.50958e-19): result may not be accurate.\n",
      "  overwrite_a=True).T\n",
      "C:\\Users\\nolan\\Anaconda3\\lib\\site-packages\\sklearn\\linear_model\\ridge.py:147: LinAlgWarning: Ill-conditioned matrix (rcond=6.28544e-19): result may not be accurate.\n",
      "  overwrite_a=True).T\n",
      "C:\\Users\\nolan\\Anaconda3\\lib\\site-packages\\sklearn\\linear_model\\ridge.py:147: LinAlgWarning: Ill-conditioned matrix (rcond=6.56172e-19): result may not be accurate.\n",
      "  overwrite_a=True).T\n",
      "C:\\Users\\nolan\\Anaconda3\\lib\\site-packages\\sklearn\\linear_model\\ridge.py:147: LinAlgWarning: Ill-conditioned matrix (rcond=6.36728e-19): result may not be accurate.\n",
      "  overwrite_a=True).T\n",
      "C:\\Users\\nolan\\Anaconda3\\lib\\site-packages\\sklearn\\linear_model\\ridge.py:147: LinAlgWarning: Ill-conditioned matrix (rcond=7.37742e-19): result may not be accurate.\n",
      "  overwrite_a=True).T\n",
      "C:\\Users\\nolan\\Anaconda3\\lib\\site-packages\\sklearn\\linear_model\\ridge.py:147: LinAlgWarning: Ill-conditioned matrix (rcond=7.18081e-19): result may not be accurate.\n",
      "  overwrite_a=True).T\n",
      "C:\\Users\\nolan\\Anaconda3\\lib\\site-packages\\sklearn\\linear_model\\ridge.py:147: LinAlgWarning: Ill-conditioned matrix (rcond=6.94504e-19): result may not be accurate.\n",
      "  overwrite_a=True).T\n",
      "C:\\Users\\nolan\\Anaconda3\\lib\\site-packages\\sklearn\\linear_model\\ridge.py:147: LinAlgWarning: Ill-conditioned matrix (rcond=7.23686e-19): result may not be accurate.\n",
      "  overwrite_a=True).T\n",
      "C:\\Users\\nolan\\Anaconda3\\lib\\site-packages\\sklearn\\linear_model\\ridge.py:147: LinAlgWarning: Ill-conditioned matrix (rcond=7.03542e-19): result may not be accurate.\n",
      "  overwrite_a=True).T\n",
      "C:\\Users\\nolan\\Anaconda3\\lib\\site-packages\\sklearn\\linear_model\\ridge.py:147: LinAlgWarning: Ill-conditioned matrix (rcond=8.14905e-19): result may not be accurate.\n",
      "  overwrite_a=True).T\n",
      "C:\\Users\\nolan\\Anaconda3\\lib\\site-packages\\sklearn\\linear_model\\ridge.py:147: LinAlgWarning: Ill-conditioned matrix (rcond=7.93788e-19): result may not be accurate.\n",
      "  overwrite_a=True).T\n",
      "C:\\Users\\nolan\\Anaconda3\\lib\\site-packages\\sklearn\\linear_model\\ridge.py:147: LinAlgWarning: Ill-conditioned matrix (rcond=7.68852e-19): result may not be accurate.\n",
      "  overwrite_a=True).T\n",
      "C:\\Users\\nolan\\Anaconda3\\lib\\site-packages\\sklearn\\linear_model\\ridge.py:147: LinAlgWarning: Ill-conditioned matrix (rcond=7.99782e-19): result may not be accurate.\n",
      "  overwrite_a=True).T\n",
      "C:\\Users\\nolan\\Anaconda3\\lib\\site-packages\\sklearn\\linear_model\\ridge.py:147: LinAlgWarning: Ill-conditioned matrix (rcond=7.78914e-19): result may not be accurate.\n",
      "  overwrite_a=True).T\n",
      "C:\\Users\\nolan\\Anaconda3\\lib\\site-packages\\sklearn\\linear_model\\ridge.py:147: LinAlgWarning: Ill-conditioned matrix (rcond=9.02012e-19): result may not be accurate.\n",
      "  overwrite_a=True).T\n",
      "C:\\Users\\nolan\\Anaconda3\\lib\\site-packages\\sklearn\\linear_model\\ridge.py:147: LinAlgWarning: Ill-conditioned matrix (rcond=8.79253e-19): result may not be accurate.\n",
      "  overwrite_a=True).T\n",
      "C:\\Users\\nolan\\Anaconda3\\lib\\site-packages\\sklearn\\linear_model\\ridge.py:147: LinAlgWarning: Ill-conditioned matrix (rcond=8.52347e-19): result may not be accurate.\n",
      "  overwrite_a=True).T\n",
      "C:\\Users\\nolan\\Anaconda3\\lib\\site-packages\\sklearn\\linear_model\\ridge.py:147: LinAlgWarning: Ill-conditioned matrix (rcond=8.85602e-19): result may not be accurate.\n",
      "  overwrite_a=True).T\n",
      "C:\\Users\\nolan\\Anaconda3\\lib\\site-packages\\sklearn\\linear_model\\ridge.py:147: LinAlgWarning: Ill-conditioned matrix (rcond=8.63674e-19): result may not be accurate.\n",
      "  overwrite_a=True).T\n",
      "C:\\Users\\nolan\\Anaconda3\\lib\\site-packages\\sklearn\\linear_model\\ridge.py:147: LinAlgWarning: Ill-conditioned matrix (rcond=1.00021e-18): result may not be accurate.\n",
      "  overwrite_a=True).T\n",
      "C:\\Users\\nolan\\Anaconda3\\lib\\site-packages\\sklearn\\linear_model\\ridge.py:147: LinAlgWarning: Ill-conditioned matrix (rcond=9.75824e-19): result may not be accurate.\n",
      "  overwrite_a=True).T\n",
      "C:\\Users\\nolan\\Anaconda3\\lib\\site-packages\\sklearn\\linear_model\\ridge.py:147: LinAlgWarning: Ill-conditioned matrix (rcond=9.46379e-19): result may not be accurate.\n",
      "  overwrite_a=True).T\n",
      "C:\\Users\\nolan\\Anaconda3\\lib\\site-packages\\sklearn\\linear_model\\ridge.py:147: LinAlgWarning: Ill-conditioned matrix (rcond=9.8181e-19): result may not be accurate.\n",
      "  overwrite_a=True).T\n",
      "C:\\Users\\nolan\\Anaconda3\\lib\\site-packages\\sklearn\\linear_model\\ridge.py:147: LinAlgWarning: Ill-conditioned matrix (rcond=9.59194e-19): result may not be accurate.\n",
      "  overwrite_a=True).T\n",
      "C:\\Users\\nolan\\Anaconda3\\lib\\site-packages\\sklearn\\linear_model\\ridge.py:147: LinAlgWarning: Ill-conditioned matrix (rcond=1.11099e-18): result may not be accurate.\n",
      "  overwrite_a=True).T\n",
      "C:\\Users\\nolan\\Anaconda3\\lib\\site-packages\\sklearn\\linear_model\\ridge.py:147: LinAlgWarning: Ill-conditioned matrix (rcond=1.08428e-18): result may not be accurate.\n",
      "  overwrite_a=True).T\n",
      "C:\\Users\\nolan\\Anaconda3\\lib\\site-packages\\sklearn\\linear_model\\ridge.py:147: LinAlgWarning: Ill-conditioned matrix (rcond=1.0526e-18): result may not be accurate.\n",
      "  overwrite_a=True).T\n",
      "C:\\Users\\nolan\\Anaconda3\\lib\\site-packages\\sklearn\\linear_model\\ridge.py:147: LinAlgWarning: Ill-conditioned matrix (rcond=1.09052e-18): result may not be accurate.\n",
      "  overwrite_a=True).T\n",
      "C:\\Users\\nolan\\Anaconda3\\lib\\site-packages\\sklearn\\linear_model\\ridge.py:147: LinAlgWarning: Ill-conditioned matrix (rcond=1.06713e-18): result may not be accurate.\n",
      "  overwrite_a=True).T\n",
      "C:\\Users\\nolan\\Anaconda3\\lib\\site-packages\\sklearn\\linear_model\\ridge.py:147: LinAlgWarning: Ill-conditioned matrix (rcond=1.23575e-18): result may not be accurate.\n",
      "  overwrite_a=True).T\n",
      "C:\\Users\\nolan\\Anaconda3\\lib\\site-packages\\sklearn\\linear_model\\ridge.py:147: LinAlgWarning: Ill-conditioned matrix (rcond=1.20669e-18): result may not be accurate.\n",
      "  overwrite_a=True).T\n",
      "C:\\Users\\nolan\\Anaconda3\\lib\\site-packages\\sklearn\\linear_model\\ridge.py:147: LinAlgWarning: Ill-conditioned matrix (rcond=1.1727e-18): result may not be accurate.\n",
      "  overwrite_a=True).T\n",
      "C:\\Users\\nolan\\Anaconda3\\lib\\site-packages\\sklearn\\linear_model\\ridge.py:147: LinAlgWarning: Ill-conditioned matrix (rcond=1.21349e-18): result may not be accurate.\n",
      "  overwrite_a=True).T\n",
      "C:\\Users\\nolan\\Anaconda3\\lib\\site-packages\\sklearn\\linear_model\\ridge.py:147: LinAlgWarning: Ill-conditioned matrix (rcond=1.18861e-18): result may not be accurate.\n",
      "  overwrite_a=True).T\n",
      "C:\\Users\\nolan\\Anaconda3\\lib\\site-packages\\sklearn\\linear_model\\ridge.py:147: LinAlgWarning: Ill-conditioned matrix (rcond=1.37627e-18): result may not be accurate.\n",
      "  overwrite_a=True).T\n",
      "C:\\Users\\nolan\\Anaconda3\\lib\\site-packages\\sklearn\\linear_model\\ridge.py:147: LinAlgWarning: Ill-conditioned matrix (rcond=1.34528e-18): result may not be accurate.\n",
      "  overwrite_a=True).T\n",
      "C:\\Users\\nolan\\Anaconda3\\lib\\site-packages\\sklearn\\linear_model\\ridge.py:147: LinAlgWarning: Ill-conditioned matrix (rcond=1.30866e-18): result may not be accurate.\n",
      "  overwrite_a=True).T\n",
      "C:\\Users\\nolan\\Anaconda3\\lib\\site-packages\\sklearn\\linear_model\\ridge.py:147: LinAlgWarning: Ill-conditioned matrix (rcond=1.35271e-18): result may not be accurate.\n",
      "  overwrite_a=True).T\n",
      "C:\\Users\\nolan\\Anaconda3\\lib\\site-packages\\sklearn\\linear_model\\ridge.py:147: LinAlgWarning: Ill-conditioned matrix (rcond=1.32606e-18): result may not be accurate.\n",
      "  overwrite_a=True).T\n",
      "C:\\Users\\nolan\\Anaconda3\\lib\\site-packages\\sklearn\\linear_model\\ridge.py:147: LinAlgWarning: Ill-conditioned matrix (rcond=1.53525e-18): result may not be accurate.\n",
      "  overwrite_a=True).T\n",
      "C:\\Users\\nolan\\Anaconda3\\lib\\site-packages\\sklearn\\linear_model\\ridge.py:147: LinAlgWarning: Ill-conditioned matrix (rcond=1.50236e-18): result may not be accurate.\n",
      "  overwrite_a=True).T\n",
      "C:\\Users\\nolan\\Anaconda3\\lib\\site-packages\\sklearn\\linear_model\\ridge.py:147: LinAlgWarning: Ill-conditioned matrix (rcond=1.46273e-18): result may not be accurate.\n",
      "  overwrite_a=True).T\n",
      "C:\\Users\\nolan\\Anaconda3\\lib\\site-packages\\sklearn\\linear_model\\ridge.py:147: LinAlgWarning: Ill-conditioned matrix (rcond=1.50946e-18): result may not be accurate.\n",
      "  overwrite_a=True).T\n",
      "C:\\Users\\nolan\\Anaconda3\\lib\\site-packages\\sklearn\\linear_model\\ridge.py:147: LinAlgWarning: Ill-conditioned matrix (rcond=1.48172e-18): result may not be accurate.\n",
      "  overwrite_a=True).T\n",
      "C:\\Users\\nolan\\Anaconda3\\lib\\site-packages\\sklearn\\linear_model\\ridge.py:147: LinAlgWarning: Ill-conditioned matrix (rcond=1.71546e-18): result may not be accurate.\n",
      "  overwrite_a=True).T\n",
      "C:\\Users\\nolan\\Anaconda3\\lib\\site-packages\\sklearn\\linear_model\\ridge.py:147: LinAlgWarning: Ill-conditioned matrix (rcond=1.68057e-18): result may not be accurate.\n",
      "  overwrite_a=True).T\n",
      "C:\\Users\\nolan\\Anaconda3\\lib\\site-packages\\sklearn\\linear_model\\ridge.py:147: LinAlgWarning: Ill-conditioned matrix (rcond=1.63752e-18): result may not be accurate.\n",
      "  overwrite_a=True).T\n",
      "C:\\Users\\nolan\\Anaconda3\\lib\\site-packages\\sklearn\\linear_model\\ridge.py:147: LinAlgWarning: Ill-conditioned matrix (rcond=1.68684e-18): result may not be accurate.\n",
      "  overwrite_a=True).T\n",
      "C:\\Users\\nolan\\Anaconda3\\lib\\site-packages\\sklearn\\linear_model\\ridge.py:147: LinAlgWarning: Ill-conditioned matrix (rcond=1.6574e-18): result may not be accurate.\n",
      "  overwrite_a=True).T\n",
      "C:\\Users\\nolan\\Anaconda3\\lib\\site-packages\\sklearn\\linear_model\\ridge.py:147: LinAlgWarning: Ill-conditioned matrix (rcond=2.00319e-18): result may not be accurate.\n",
      "  overwrite_a=True).T\n",
      "C:\\Users\\nolan\\Anaconda3\\lib\\site-packages\\sklearn\\linear_model\\ridge.py:147: LinAlgWarning: Ill-conditioned matrix (rcond=1.88284e-18): result may not be accurate.\n",
      "  overwrite_a=True).T\n",
      "C:\\Users\\nolan\\Anaconda3\\lib\\site-packages\\sklearn\\linear_model\\ridge.py:147: LinAlgWarning: Ill-conditioned matrix (rcond=1.83602e-18): result may not be accurate.\n",
      "  overwrite_a=True).T\n",
      "C:\\Users\\nolan\\Anaconda3\\lib\\site-packages\\sklearn\\linear_model\\ridge.py:147: LinAlgWarning: Ill-conditioned matrix (rcond=1.88793e-18): result may not be accurate.\n",
      "  overwrite_a=True).T\n",
      "C:\\Users\\nolan\\Anaconda3\\lib\\site-packages\\sklearn\\linear_model\\ridge.py:147: LinAlgWarning: Ill-conditioned matrix (rcond=1.85685e-18): result may not be accurate.\n",
      "  overwrite_a=True).T\n",
      "C:\\Users\\nolan\\Anaconda3\\lib\\site-packages\\sklearn\\linear_model\\ridge.py:147: LinAlgWarning: Ill-conditioned matrix (rcond=2.24564e-18): result may not be accurate.\n",
      "  overwrite_a=True).T\n",
      "C:\\Users\\nolan\\Anaconda3\\lib\\site-packages\\sklearn\\linear_model\\ridge.py:147: LinAlgWarning: Ill-conditioned matrix (rcond=2.11168e-18): result may not be accurate.\n",
      "  overwrite_a=True).T\n",
      "C:\\Users\\nolan\\Anaconda3\\lib\\site-packages\\sklearn\\linear_model\\ridge.py:147: LinAlgWarning: Ill-conditioned matrix (rcond=2.06169e-18): result may not be accurate.\n",
      "  overwrite_a=True).T\n",
      "C:\\Users\\nolan\\Anaconda3\\lib\\site-packages\\sklearn\\linear_model\\ridge.py:147: LinAlgWarning: Ill-conditioned matrix (rcond=2.15323e-18): result may not be accurate.\n",
      "  overwrite_a=True).T\n",
      "C:\\Users\\nolan\\Anaconda3\\lib\\site-packages\\sklearn\\linear_model\\ridge.py:147: LinAlgWarning: Ill-conditioned matrix (rcond=2.08306e-18): result may not be accurate.\n",
      "  overwrite_a=True).T\n",
      "C:\\Users\\nolan\\Anaconda3\\lib\\site-packages\\sklearn\\linear_model\\ridge.py:147: LinAlgWarning: Ill-conditioned matrix (rcond=2.52066e-18): result may not be accurate.\n",
      "  overwrite_a=True).T\n",
      "C:\\Users\\nolan\\Anaconda3\\lib\\site-packages\\sklearn\\linear_model\\ridge.py:147: LinAlgWarning: Ill-conditioned matrix (rcond=2.32519e-18): result may not be accurate.\n",
      "  overwrite_a=True).T\n",
      "C:\\Users\\nolan\\Anaconda3\\lib\\site-packages\\sklearn\\linear_model\\ridge.py:147: LinAlgWarning: Ill-conditioned matrix (rcond=2.29026e-18): result may not be accurate.\n",
      "  overwrite_a=True).T\n",
      "C:\\Users\\nolan\\Anaconda3\\lib\\site-packages\\sklearn\\linear_model\\ridge.py:147: LinAlgWarning: Ill-conditioned matrix (rcond=2.41678e-18): result may not be accurate.\n",
      "  overwrite_a=True).T\n",
      "C:\\Users\\nolan\\Anaconda3\\lib\\site-packages\\sklearn\\linear_model\\ridge.py:147: LinAlgWarning: Ill-conditioned matrix (rcond=2.3392e-18): result may not be accurate.\n",
      "  overwrite_a=True).T\n",
      "C:\\Users\\nolan\\Anaconda3\\lib\\site-packages\\sklearn\\linear_model\\ridge.py:147: LinAlgWarning: Ill-conditioned matrix (rcond=2.83331e-18): result may not be accurate.\n",
      "  overwrite_a=True).T\n",
      "C:\\Users\\nolan\\Anaconda3\\lib\\site-packages\\sklearn\\linear_model\\ridge.py:147: LinAlgWarning: Ill-conditioned matrix (rcond=2.59073e-18): result may not be accurate.\n",
      "  overwrite_a=True).T\n",
      "C:\\Users\\nolan\\Anaconda3\\lib\\site-packages\\sklearn\\linear_model\\ridge.py:147: LinAlgWarning: Ill-conditioned matrix (rcond=2.55197e-18): result may not be accurate.\n",
      "  overwrite_a=True).T\n",
      "C:\\Users\\nolan\\Anaconda3\\lib\\site-packages\\sklearn\\linear_model\\ridge.py:147: LinAlgWarning: Ill-conditioned matrix (rcond=2.56915e-18): result may not be accurate.\n",
      "  overwrite_a=True).T\n",
      "C:\\Users\\nolan\\Anaconda3\\lib\\site-packages\\sklearn\\linear_model\\ridge.py:147: LinAlgWarning: Ill-conditioned matrix (rcond=2.58821e-18): result may not be accurate.\n",
      "  overwrite_a=True).T\n",
      "C:\\Users\\nolan\\Anaconda3\\lib\\site-packages\\sklearn\\linear_model\\ridge.py:147: LinAlgWarning: Ill-conditioned matrix (rcond=3.18914e-18): result may not be accurate.\n",
      "  overwrite_a=True).T\n",
      "C:\\Users\\nolan\\Anaconda3\\lib\\site-packages\\sklearn\\linear_model\\ridge.py:147: LinAlgWarning: Ill-conditioned matrix (rcond=2.89181e-18): result may not be accurate.\n",
      "  overwrite_a=True).T\n"
     ]
    },
    {
     "name": "stderr",
     "output_type": "stream",
     "text": [
      "C:\\Users\\nolan\\Anaconda3\\lib\\site-packages\\sklearn\\linear_model\\ridge.py:147: LinAlgWarning: Ill-conditioned matrix (rcond=2.84882e-18): result may not be accurate.\n",
      "  overwrite_a=True).T\n",
      "C:\\Users\\nolan\\Anaconda3\\lib\\site-packages\\sklearn\\linear_model\\ridge.py:147: LinAlgWarning: Ill-conditioned matrix (rcond=2.86694e-18): result may not be accurate.\n",
      "  overwrite_a=True).T\n",
      "C:\\Users\\nolan\\Anaconda3\\lib\\site-packages\\sklearn\\linear_model\\ridge.py:147: LinAlgWarning: Ill-conditioned matrix (rcond=2.88715e-18): result may not be accurate.\n",
      "  overwrite_a=True).T\n",
      "C:\\Users\\nolan\\Anaconda3\\lib\\site-packages\\sklearn\\linear_model\\ridge.py:147: LinAlgWarning: Ill-conditioned matrix (rcond=3.59439e-18): result may not be accurate.\n",
      "  overwrite_a=True).T\n",
      "C:\\Users\\nolan\\Anaconda3\\lib\\site-packages\\sklearn\\linear_model\\ridge.py:147: LinAlgWarning: Ill-conditioned matrix (rcond=3.23381e-18): result may not be accurate.\n",
      "  overwrite_a=True).T\n",
      "C:\\Users\\nolan\\Anaconda3\\lib\\site-packages\\sklearn\\linear_model\\ridge.py:147: LinAlgWarning: Ill-conditioned matrix (rcond=3.1862e-18): result may not be accurate.\n",
      "  overwrite_a=True).T\n",
      "C:\\Users\\nolan\\Anaconda3\\lib\\site-packages\\sklearn\\linear_model\\ridge.py:147: LinAlgWarning: Ill-conditioned matrix (rcond=3.2052e-18): result may not be accurate.\n",
      "  overwrite_a=True).T\n",
      "C:\\Users\\nolan\\Anaconda3\\lib\\site-packages\\sklearn\\linear_model\\ridge.py:147: LinAlgWarning: Ill-conditioned matrix (rcond=3.22694e-18): result may not be accurate.\n",
      "  overwrite_a=True).T\n",
      "C:\\Users\\nolan\\Anaconda3\\lib\\site-packages\\sklearn\\linear_model\\ridge.py:147: LinAlgWarning: Ill-conditioned matrix (rcond=4.05574e-18): result may not be accurate.\n",
      "  overwrite_a=True).T\n",
      "C:\\Users\\nolan\\Anaconda3\\lib\\site-packages\\sklearn\\linear_model\\ridge.py:147: LinAlgWarning: Ill-conditioned matrix (rcond=3.62298e-18): result may not be accurate.\n",
      "  overwrite_a=True).T\n",
      "C:\\Users\\nolan\\Anaconda3\\lib\\site-packages\\sklearn\\linear_model\\ridge.py:147: LinAlgWarning: Ill-conditioned matrix (rcond=3.57031e-18): result may not be accurate.\n",
      "  overwrite_a=True).T\n",
      "C:\\Users\\nolan\\Anaconda3\\lib\\site-packages\\sklearn\\linear_model\\ridge.py:147: LinAlgWarning: Ill-conditioned matrix (rcond=3.59011e-18): result may not be accurate.\n",
      "  overwrite_a=True).T\n",
      "C:\\Users\\nolan\\Anaconda3\\lib\\site-packages\\sklearn\\linear_model\\ridge.py:147: LinAlgWarning: Ill-conditioned matrix (rcond=3.61385e-18): result may not be accurate.\n",
      "  overwrite_a=True).T\n",
      "C:\\Users\\nolan\\Anaconda3\\lib\\site-packages\\sklearn\\linear_model\\ridge.py:147: LinAlgWarning: Ill-conditioned matrix (rcond=4.11107e-18): result may not be accurate.\n",
      "  overwrite_a=True).T\n",
      "C:\\Users\\nolan\\Anaconda3\\lib\\site-packages\\sklearn\\linear_model\\ridge.py:147: LinAlgWarning: Ill-conditioned matrix (rcond=4.06651e-18): result may not be accurate.\n",
      "  overwrite_a=True).T\n",
      "C:\\Users\\nolan\\Anaconda3\\lib\\site-packages\\sklearn\\linear_model\\ridge.py:147: LinAlgWarning: Ill-conditioned matrix (rcond=4.00835e-18): result may not be accurate.\n",
      "  overwrite_a=True).T\n",
      "C:\\Users\\nolan\\Anaconda3\\lib\\site-packages\\sklearn\\linear_model\\ridge.py:147: LinAlgWarning: Ill-conditioned matrix (rcond=4.02883e-18): result may not be accurate.\n",
      "  overwrite_a=True).T\n",
      "C:\\Users\\nolan\\Anaconda3\\lib\\site-packages\\sklearn\\linear_model\\ridge.py:147: LinAlgWarning: Ill-conditioned matrix (rcond=4.05511e-18): result may not be accurate.\n",
      "  overwrite_a=True).T\n",
      "C:\\Users\\nolan\\Anaconda3\\lib\\site-packages\\sklearn\\linear_model\\ridge.py:147: LinAlgWarning: Ill-conditioned matrix (rcond=4.62032e-18): result may not be accurate.\n",
      "  overwrite_a=True).T\n",
      "C:\\Users\\nolan\\Anaconda3\\lib\\site-packages\\sklearn\\linear_model\\ridge.py:147: LinAlgWarning: Ill-conditioned matrix (rcond=4.57271e-18): result may not be accurate.\n",
      "  overwrite_a=True).T\n",
      "C:\\Users\\nolan\\Anaconda3\\lib\\site-packages\\sklearn\\linear_model\\ridge.py:147: LinAlgWarning: Ill-conditioned matrix (rcond=4.50861e-18): result may not be accurate.\n",
      "  overwrite_a=True).T\n",
      "C:\\Users\\nolan\\Anaconda3\\lib\\site-packages\\sklearn\\linear_model\\ridge.py:147: LinAlgWarning: Ill-conditioned matrix (rcond=4.52962e-18): result may not be accurate.\n",
      "  overwrite_a=True).T\n",
      "C:\\Users\\nolan\\Anaconda3\\lib\\site-packages\\sklearn\\linear_model\\ridge.py:147: LinAlgWarning: Ill-conditioned matrix (rcond=4.55909e-18): result may not be accurate.\n",
      "  overwrite_a=True).T\n",
      "C:\\Users\\nolan\\Anaconda3\\lib\\site-packages\\sklearn\\linear_model\\ridge.py:147: LinAlgWarning: Ill-conditioned matrix (rcond=5.20213e-18): result may not be accurate.\n",
      "  overwrite_a=True).T\n",
      "C:\\Users\\nolan\\Anaconda3\\lib\\site-packages\\sklearn\\linear_model\\ridge.py:147: LinAlgWarning: Ill-conditioned matrix (rcond=5.15116e-18): result may not be accurate.\n",
      "  overwrite_a=True).T\n",
      "C:\\Users\\nolan\\Anaconda3\\lib\\site-packages\\sklearn\\linear_model\\ridge.py:147: LinAlgWarning: Ill-conditioned matrix (rcond=5.08067e-18): result may not be accurate.\n",
      "  overwrite_a=True).T\n",
      "C:\\Users\\nolan\\Anaconda3\\lib\\site-packages\\sklearn\\linear_model\\ridge.py:147: LinAlgWarning: Ill-conditioned matrix (rcond=5.10201e-18): result may not be accurate.\n",
      "  overwrite_a=True).T\n",
      "C:\\Users\\nolan\\Anaconda3\\lib\\site-packages\\sklearn\\linear_model\\ridge.py:147: LinAlgWarning: Ill-conditioned matrix (rcond=5.13538e-18): result may not be accurate.\n",
      "  overwrite_a=True).T\n",
      "C:\\Users\\nolan\\Anaconda3\\lib\\site-packages\\sklearn\\linear_model\\ridge.py:147: LinAlgWarning: Ill-conditioned matrix (rcond=5.86698e-18): result may not be accurate.\n",
      "  overwrite_a=True).T\n",
      "C:\\Users\\nolan\\Anaconda3\\lib\\site-packages\\sklearn\\linear_model\\ridge.py:147: LinAlgWarning: Ill-conditioned matrix (rcond=5.81285e-18): result may not be accurate.\n",
      "  overwrite_a=True).T\n",
      "C:\\Users\\nolan\\Anaconda3\\lib\\site-packages\\sklearn\\linear_model\\ridge.py:147: LinAlgWarning: Ill-conditioned matrix (rcond=5.73553e-18): result may not be accurate.\n",
      "  overwrite_a=True).T\n",
      "C:\\Users\\nolan\\Anaconda3\\lib\\site-packages\\sklearn\\linear_model\\ridge.py:147: LinAlgWarning: Ill-conditioned matrix (rcond=5.75646e-18): result may not be accurate.\n",
      "  overwrite_a=True).T\n",
      "C:\\Users\\nolan\\Anaconda3\\lib\\site-packages\\sklearn\\linear_model\\ridge.py:147: LinAlgWarning: Ill-conditioned matrix (rcond=5.79503e-18): result may not be accurate.\n",
      "  overwrite_a=True).T\n",
      "C:\\Users\\nolan\\Anaconda3\\lib\\site-packages\\sklearn\\linear_model\\ridge.py:147: LinAlgWarning: Ill-conditioned matrix (rcond=6.62583e-18): result may not be accurate.\n",
      "  overwrite_a=True).T\n",
      "C:\\Users\\nolan\\Anaconda3\\lib\\site-packages\\sklearn\\linear_model\\ridge.py:147: LinAlgWarning: Ill-conditioned matrix (rcond=6.57037e-18): result may not be accurate.\n",
      "  overwrite_a=True).T\n",
      "C:\\Users\\nolan\\Anaconda3\\lib\\site-packages\\sklearn\\linear_model\\ridge.py:147: LinAlgWarning: Ill-conditioned matrix (rcond=6.4858e-18): result may not be accurate.\n",
      "  overwrite_a=True).T\n",
      "C:\\Users\\nolan\\Anaconda3\\lib\\site-packages\\sklearn\\linear_model\\ridge.py:147: LinAlgWarning: Ill-conditioned matrix (rcond=6.50422e-18): result may not be accurate.\n",
      "  overwrite_a=True).T\n",
      "C:\\Users\\nolan\\Anaconda3\\lib\\site-packages\\sklearn\\linear_model\\ridge.py:147: LinAlgWarning: Ill-conditioned matrix (rcond=6.55072e-18): result may not be accurate.\n",
      "  overwrite_a=True).T\n",
      "C:\\Users\\nolan\\Anaconda3\\lib\\site-packages\\sklearn\\linear_model\\ridge.py:147: LinAlgWarning: Ill-conditioned matrix (rcond=7.49501e-18): result may not be accurate.\n",
      "  overwrite_a=True).T\n",
      "C:\\Users\\nolan\\Anaconda3\\lib\\site-packages\\sklearn\\linear_model\\ridge.py:147: LinAlgWarning: Ill-conditioned matrix (rcond=7.43811e-18): result may not be accurate.\n",
      "  overwrite_a=True).T\n",
      "C:\\Users\\nolan\\Anaconda3\\lib\\site-packages\\sklearn\\linear_model\\ridge.py:147: LinAlgWarning: Ill-conditioned matrix (rcond=7.34593e-18): result may not be accurate.\n",
      "  overwrite_a=True).T\n",
      "C:\\Users\\nolan\\Anaconda3\\lib\\site-packages\\sklearn\\linear_model\\ridge.py:147: LinAlgWarning: Ill-conditioned matrix (rcond=7.36118e-18): result may not be accurate.\n",
      "  overwrite_a=True).T\n",
      "C:\\Users\\nolan\\Anaconda3\\lib\\site-packages\\sklearn\\linear_model\\ridge.py:147: LinAlgWarning: Ill-conditioned matrix (rcond=7.41529e-18): result may not be accurate.\n",
      "  overwrite_a=True).T\n",
      "C:\\Users\\nolan\\Anaconda3\\lib\\site-packages\\sklearn\\linear_model\\ridge.py:147: LinAlgWarning: Ill-conditioned matrix (rcond=8.49096e-18): result may not be accurate.\n",
      "  overwrite_a=True).T\n",
      "C:\\Users\\nolan\\Anaconda3\\lib\\site-packages\\sklearn\\linear_model\\ridge.py:147: LinAlgWarning: Ill-conditioned matrix (rcond=8.4325e-18): result may not be accurate.\n",
      "  overwrite_a=True).T\n",
      "C:\\Users\\nolan\\Anaconda3\\lib\\site-packages\\sklearn\\linear_model\\ridge.py:147: LinAlgWarning: Ill-conditioned matrix (rcond=8.33236e-18): result may not be accurate.\n",
      "  overwrite_a=True).T\n",
      "C:\\Users\\nolan\\Anaconda3\\lib\\site-packages\\sklearn\\linear_model\\ridge.py:147: LinAlgWarning: Ill-conditioned matrix (rcond=8.34373e-18): result may not be accurate.\n",
      "  overwrite_a=True).T\n",
      "C:\\Users\\nolan\\Anaconda3\\lib\\site-packages\\sklearn\\linear_model\\ridge.py:147: LinAlgWarning: Ill-conditioned matrix (rcond=8.40518e-18): result may not be accurate.\n",
      "  overwrite_a=True).T\n",
      "C:\\Users\\nolan\\Anaconda3\\lib\\site-packages\\sklearn\\linear_model\\ridge.py:147: LinAlgWarning: Ill-conditioned matrix (rcond=9.63241e-18): result may not be accurate.\n",
      "  overwrite_a=True).T\n",
      "C:\\Users\\nolan\\Anaconda3\\lib\\site-packages\\sklearn\\linear_model\\ridge.py:147: LinAlgWarning: Ill-conditioned matrix (rcond=9.57218e-18): result may not be accurate.\n",
      "  overwrite_a=True).T\n",
      "C:\\Users\\nolan\\Anaconda3\\lib\\site-packages\\sklearn\\linear_model\\ridge.py:147: LinAlgWarning: Ill-conditioned matrix (rcond=9.46382e-18): result may not be accurate.\n",
      "  overwrite_a=True).T\n",
      "C:\\Users\\nolan\\Anaconda3\\lib\\site-packages\\sklearn\\linear_model\\ridge.py:147: LinAlgWarning: Ill-conditioned matrix (rcond=9.47052e-18): result may not be accurate.\n",
      "  overwrite_a=True).T\n",
      "C:\\Users\\nolan\\Anaconda3\\lib\\site-packages\\sklearn\\linear_model\\ridge.py:147: LinAlgWarning: Ill-conditioned matrix (rcond=9.54037e-18): result may not be accurate.\n",
      "  overwrite_a=True).T\n",
      "C:\\Users\\nolan\\Anaconda3\\lib\\site-packages\\sklearn\\linear_model\\ridge.py:147: LinAlgWarning: Ill-conditioned matrix (rcond=1.09406e-17): result may not be accurate.\n",
      "  overwrite_a=True).T\n",
      "C:\\Users\\nolan\\Anaconda3\\lib\\site-packages\\sklearn\\linear_model\\ridge.py:147: LinAlgWarning: Ill-conditioned matrix (rcond=1.08783e-17): result may not be accurate.\n",
      "  overwrite_a=True).T\n",
      "C:\\Users\\nolan\\Anaconda3\\lib\\site-packages\\sklearn\\linear_model\\ridge.py:147: LinAlgWarning: Ill-conditioned matrix (rcond=1.07615e-17): result may not be accurate.\n",
      "  overwrite_a=True).T\n",
      "C:\\Users\\nolan\\Anaconda3\\lib\\site-packages\\sklearn\\linear_model\\ridge.py:147: LinAlgWarning: Ill-conditioned matrix (rcond=1.07627e-17): result may not be accurate.\n",
      "  overwrite_a=True).T\n",
      "C:\\Users\\nolan\\Anaconda3\\lib\\site-packages\\sklearn\\linear_model\\ridge.py:147: LinAlgWarning: Ill-conditioned matrix (rcond=1.08421e-17): result may not be accurate.\n",
      "  overwrite_a=True).T\n",
      "C:\\Users\\nolan\\Anaconda3\\lib\\site-packages\\sklearn\\linear_model\\ridge.py:147: LinAlgWarning: Ill-conditioned matrix (rcond=1.24395e-17): result may not be accurate.\n",
      "  overwrite_a=True).T\n",
      "C:\\Users\\nolan\\Anaconda3\\lib\\site-packages\\sklearn\\linear_model\\ridge.py:147: LinAlgWarning: Ill-conditioned matrix (rcond=1.23747e-17): result may not be accurate.\n",
      "  overwrite_a=True).T\n",
      "C:\\Users\\nolan\\Anaconda3\\lib\\site-packages\\sklearn\\linear_model\\ridge.py:147: LinAlgWarning: Ill-conditioned matrix (rcond=1.22472e-17): result may not be accurate.\n",
      "  overwrite_a=True).T\n",
      "C:\\Users\\nolan\\Anaconda3\\lib\\site-packages\\sklearn\\linear_model\\ridge.py:147: LinAlgWarning: Ill-conditioned matrix (rcond=1.22443e-17): result may not be accurate.\n",
      "  overwrite_a=True).T\n",
      "C:\\Users\\nolan\\Anaconda3\\lib\\site-packages\\sklearn\\linear_model\\ridge.py:147: LinAlgWarning: Ill-conditioned matrix (rcond=1.23342e-17): result may not be accurate.\n",
      "  overwrite_a=True).T\n",
      "C:\\Users\\nolan\\Anaconda3\\lib\\site-packages\\sklearn\\linear_model\\ridge.py:147: LinAlgWarning: Ill-conditioned matrix (rcond=1.41562e-17): result may not be accurate.\n",
      "  overwrite_a=True).T\n",
      "C:\\Users\\nolan\\Anaconda3\\lib\\site-packages\\sklearn\\linear_model\\ridge.py:147: LinAlgWarning: Ill-conditioned matrix (rcond=1.40885e-17): result may not be accurate.\n",
      "  overwrite_a=True).T\n",
      "C:\\Users\\nolan\\Anaconda3\\lib\\site-packages\\sklearn\\linear_model\\ridge.py:147: LinAlgWarning: Ill-conditioned matrix (rcond=1.39497e-17): result may not be accurate.\n",
      "  overwrite_a=True).T\n",
      "C:\\Users\\nolan\\Anaconda3\\lib\\site-packages\\sklearn\\linear_model\\ridge.py:147: LinAlgWarning: Ill-conditioned matrix (rcond=1.39424e-17): result may not be accurate.\n",
      "  overwrite_a=True).T\n",
      "C:\\Users\\nolan\\Anaconda3\\lib\\site-packages\\sklearn\\linear_model\\ridge.py:147: LinAlgWarning: Ill-conditioned matrix (rcond=1.4044e-17): result may not be accurate.\n",
      "  overwrite_a=True).T\n",
      "C:\\Users\\nolan\\Anaconda3\\lib\\site-packages\\sklearn\\linear_model\\ridge.py:147: LinAlgWarning: Ill-conditioned matrix (rcond=1.61202e-17): result may not be accurate.\n",
      "  overwrite_a=True).T\n",
      "C:\\Users\\nolan\\Anaconda3\\lib\\site-packages\\sklearn\\linear_model\\ridge.py:147: LinAlgWarning: Ill-conditioned matrix (rcond=1.60498e-17): result may not be accurate.\n",
      "  overwrite_a=True).T\n",
      "C:\\Users\\nolan\\Anaconda3\\lib\\site-packages\\sklearn\\linear_model\\ridge.py:147: LinAlgWarning: Ill-conditioned matrix (rcond=1.58998e-17): result may not be accurate.\n",
      "  overwrite_a=True).T\n",
      "C:\\Users\\nolan\\Anaconda3\\lib\\site-packages\\sklearn\\linear_model\\ridge.py:147: LinAlgWarning: Ill-conditioned matrix (rcond=1.58873e-17): result may not be accurate.\n",
      "  overwrite_a=True).T\n",
      "C:\\Users\\nolan\\Anaconda3\\lib\\site-packages\\sklearn\\linear_model\\ridge.py:147: LinAlgWarning: Ill-conditioned matrix (rcond=1.60016e-17): result may not be accurate.\n",
      "  overwrite_a=True).T\n",
      "C:\\Users\\nolan\\Anaconda3\\lib\\site-packages\\sklearn\\linear_model\\ridge.py:147: LinAlgWarning: Ill-conditioned matrix (rcond=1.83665e-17): result may not be accurate.\n",
      "  overwrite_a=True).T\n",
      "C:\\Users\\nolan\\Anaconda3\\lib\\site-packages\\sklearn\\linear_model\\ridge.py:147: LinAlgWarning: Ill-conditioned matrix (rcond=1.82928e-17): result may not be accurate.\n",
      "  overwrite_a=True).T\n"
     ]
    },
    {
     "name": "stderr",
     "output_type": "stream",
     "text": [
      "C:\\Users\\nolan\\Anaconda3\\lib\\site-packages\\sklearn\\linear_model\\ridge.py:147: LinAlgWarning: Ill-conditioned matrix (rcond=1.81317e-17): result may not be accurate.\n",
      "  overwrite_a=True).T\n",
      "C:\\Users\\nolan\\Anaconda3\\lib\\site-packages\\sklearn\\linear_model\\ridge.py:147: LinAlgWarning: Ill-conditioned matrix (rcond=1.81133e-17): result may not be accurate.\n",
      "  overwrite_a=True).T\n",
      "C:\\Users\\nolan\\Anaconda3\\lib\\site-packages\\sklearn\\linear_model\\ridge.py:147: LinAlgWarning: Ill-conditioned matrix (rcond=1.82413e-17): result may not be accurate.\n",
      "  overwrite_a=True).T\n",
      "C:\\Users\\nolan\\Anaconda3\\lib\\site-packages\\sklearn\\linear_model\\ridge.py:147: LinAlgWarning: Ill-conditioned matrix (rcond=2.09337e-17): result may not be accurate.\n",
      "  overwrite_a=True).T\n",
      "C:\\Users\\nolan\\Anaconda3\\lib\\site-packages\\sklearn\\linear_model\\ridge.py:147: LinAlgWarning: Ill-conditioned matrix (rcond=2.08555e-17): result may not be accurate.\n",
      "  overwrite_a=True).T\n",
      "C:\\Users\\nolan\\Anaconda3\\lib\\site-packages\\sklearn\\linear_model\\ridge.py:147: LinAlgWarning: Ill-conditioned matrix (rcond=2.06778e-17): result may not be accurate.\n",
      "  overwrite_a=True).T\n",
      "C:\\Users\\nolan\\Anaconda3\\lib\\site-packages\\sklearn\\linear_model\\ridge.py:147: LinAlgWarning: Ill-conditioned matrix (rcond=2.06587e-17): result may not be accurate.\n",
      "  overwrite_a=True).T\n",
      "C:\\Users\\nolan\\Anaconda3\\lib\\site-packages\\sklearn\\linear_model\\ridge.py:147: LinAlgWarning: Ill-conditioned matrix (rcond=2.08011e-17): result may not be accurate.\n",
      "  overwrite_a=True).T\n",
      "C:\\Users\\nolan\\Anaconda3\\lib\\site-packages\\sklearn\\linear_model\\ridge.py:147: LinAlgWarning: Ill-conditioned matrix (rcond=2.38612e-17): result may not be accurate.\n",
      "  overwrite_a=True).T\n",
      "C:\\Users\\nolan\\Anaconda3\\lib\\site-packages\\sklearn\\linear_model\\ridge.py:147: LinAlgWarning: Ill-conditioned matrix (rcond=2.37806e-17): result may not be accurate.\n",
      "  overwrite_a=True).T\n",
      "C:\\Users\\nolan\\Anaconda3\\lib\\site-packages\\sklearn\\linear_model\\ridge.py:147: LinAlgWarning: Ill-conditioned matrix (rcond=2.35847e-17): result may not be accurate.\n",
      "  overwrite_a=True).T\n",
      "C:\\Users\\nolan\\Anaconda3\\lib\\site-packages\\sklearn\\linear_model\\ridge.py:147: LinAlgWarning: Ill-conditioned matrix (rcond=2.35664e-17): result may not be accurate.\n",
      "  overwrite_a=True).T\n",
      "C:\\Users\\nolan\\Anaconda3\\lib\\site-packages\\sklearn\\linear_model\\ridge.py:147: LinAlgWarning: Ill-conditioned matrix (rcond=2.37239e-17): result may not be accurate.\n",
      "  overwrite_a=True).T\n",
      "C:\\Users\\nolan\\Anaconda3\\lib\\site-packages\\sklearn\\linear_model\\ridge.py:147: LinAlgWarning: Ill-conditioned matrix (rcond=2.7194e-17): result may not be accurate.\n",
      "  overwrite_a=True).T\n",
      "C:\\Users\\nolan\\Anaconda3\\lib\\site-packages\\sklearn\\linear_model\\ridge.py:147: LinAlgWarning: Ill-conditioned matrix (rcond=2.7114e-17): result may not be accurate.\n",
      "  overwrite_a=True).T\n",
      "C:\\Users\\nolan\\Anaconda3\\lib\\site-packages\\sklearn\\linear_model\\ridge.py:147: LinAlgWarning: Ill-conditioned matrix (rcond=2.69014e-17): result may not be accurate.\n",
      "  overwrite_a=True).T\n",
      "C:\\Users\\nolan\\Anaconda3\\lib\\site-packages\\sklearn\\linear_model\\ridge.py:147: LinAlgWarning: Ill-conditioned matrix (rcond=2.68843e-17): result may not be accurate.\n",
      "  overwrite_a=True).T\n",
      "C:\\Users\\nolan\\Anaconda3\\lib\\site-packages\\sklearn\\linear_model\\ridge.py:147: LinAlgWarning: Ill-conditioned matrix (rcond=2.70555e-17): result may not be accurate.\n",
      "  overwrite_a=True).T\n",
      "C:\\Users\\nolan\\Anaconda3\\lib\\site-packages\\sklearn\\linear_model\\ridge.py:147: LinAlgWarning: Ill-conditioned matrix (rcond=3.09907e-17): result may not be accurate.\n",
      "  overwrite_a=True).T\n",
      "C:\\Users\\nolan\\Anaconda3\\lib\\site-packages\\sklearn\\linear_model\\ridge.py:147: LinAlgWarning: Ill-conditioned matrix (rcond=3.09104e-17): result may not be accurate.\n",
      "  overwrite_a=True).T\n",
      "C:\\Users\\nolan\\Anaconda3\\lib\\site-packages\\sklearn\\linear_model\\ridge.py:147: LinAlgWarning: Ill-conditioned matrix (rcond=3.06815e-17): result may not be accurate.\n",
      "  overwrite_a=True).T\n",
      "C:\\Users\\nolan\\Anaconda3\\lib\\site-packages\\sklearn\\linear_model\\ridge.py:147: LinAlgWarning: Ill-conditioned matrix (rcond=3.0666e-17): result may not be accurate.\n",
      "  overwrite_a=True).T\n",
      "C:\\Users\\nolan\\Anaconda3\\lib\\site-packages\\sklearn\\linear_model\\ridge.py:147: LinAlgWarning: Ill-conditioned matrix (rcond=3.08428e-17): result may not be accurate.\n",
      "  overwrite_a=True).T\n",
      "C:\\Users\\nolan\\Anaconda3\\lib\\site-packages\\sklearn\\linear_model\\ridge.py:147: LinAlgWarning: Ill-conditioned matrix (rcond=3.53111e-17): result may not be accurate.\n",
      "  overwrite_a=True).T\n",
      "C:\\Users\\nolan\\Anaconda3\\lib\\site-packages\\sklearn\\linear_model\\ridge.py:147: LinAlgWarning: Ill-conditioned matrix (rcond=3.52291e-17): result may not be accurate.\n",
      "  overwrite_a=True).T\n",
      "C:\\Users\\nolan\\Anaconda3\\lib\\site-packages\\sklearn\\linear_model\\ridge.py:147: LinAlgWarning: Ill-conditioned matrix (rcond=3.49848e-17): result may not be accurate.\n",
      "  overwrite_a=True).T\n",
      "C:\\Users\\nolan\\Anaconda3\\lib\\site-packages\\sklearn\\linear_model\\ridge.py:147: LinAlgWarning: Ill-conditioned matrix (rcond=3.4971e-17): result may not be accurate.\n",
      "  overwrite_a=True).T\n",
      "C:\\Users\\nolan\\Anaconda3\\lib\\site-packages\\sklearn\\linear_model\\ridge.py:147: LinAlgWarning: Ill-conditioned matrix (rcond=3.51525e-17): result may not be accurate.\n",
      "  overwrite_a=True).T\n",
      "C:\\Users\\nolan\\Anaconda3\\lib\\site-packages\\sklearn\\linear_model\\ridge.py:147: LinAlgWarning: Ill-conditioned matrix (rcond=4.02221e-17): result may not be accurate.\n",
      "  overwrite_a=True).T\n",
      "C:\\Users\\nolan\\Anaconda3\\lib\\site-packages\\sklearn\\linear_model\\ridge.py:147: LinAlgWarning: Ill-conditioned matrix (rcond=4.01366e-17): result may not be accurate.\n",
      "  overwrite_a=True).T\n",
      "C:\\Users\\nolan\\Anaconda3\\lib\\site-packages\\sklearn\\linear_model\\ridge.py:147: LinAlgWarning: Ill-conditioned matrix (rcond=3.9878e-17): result may not be accurate.\n",
      "  overwrite_a=True).T\n",
      "C:\\Users\\nolan\\Anaconda3\\lib\\site-packages\\sklearn\\linear_model\\ridge.py:147: LinAlgWarning: Ill-conditioned matrix (rcond=3.98661e-17): result may not be accurate.\n",
      "  overwrite_a=True).T\n",
      "C:\\Users\\nolan\\Anaconda3\\lib\\site-packages\\sklearn\\linear_model\\ridge.py:147: LinAlgWarning: Ill-conditioned matrix (rcond=4.00511e-17): result may not be accurate.\n",
      "  overwrite_a=True).T\n",
      "C:\\Users\\nolan\\Anaconda3\\lib\\site-packages\\sklearn\\linear_model\\ridge.py:147: LinAlgWarning: Ill-conditioned matrix (rcond=4.57979e-17): result may not be accurate.\n",
      "  overwrite_a=True).T\n",
      "C:\\Users\\nolan\\Anaconda3\\lib\\site-packages\\sklearn\\linear_model\\ridge.py:147: LinAlgWarning: Ill-conditioned matrix (rcond=4.57068e-17): result may not be accurate.\n",
      "  overwrite_a=True).T\n",
      "C:\\Users\\nolan\\Anaconda3\\lib\\site-packages\\sklearn\\linear_model\\ridge.py:147: LinAlgWarning: Ill-conditioned matrix (rcond=4.54356e-17): result may not be accurate.\n",
      "  overwrite_a=True).T\n",
      "C:\\Users\\nolan\\Anaconda3\\lib\\site-packages\\sklearn\\linear_model\\ridge.py:147: LinAlgWarning: Ill-conditioned matrix (rcond=4.54255e-17): result may not be accurate.\n",
      "  overwrite_a=True).T\n",
      "C:\\Users\\nolan\\Anaconda3\\lib\\site-packages\\sklearn\\linear_model\\ridge.py:147: LinAlgWarning: Ill-conditioned matrix (rcond=4.56126e-17): result may not be accurate.\n",
      "  overwrite_a=True).T\n",
      "C:\\Users\\nolan\\Anaconda3\\lib\\site-packages\\sklearn\\linear_model\\ridge.py:147: LinAlgWarning: Ill-conditioned matrix (rcond=5.21221e-17): result may not be accurate.\n",
      "  overwrite_a=True).T\n",
      "C:\\Users\\nolan\\Anaconda3\\lib\\site-packages\\sklearn\\linear_model\\ridge.py:147: LinAlgWarning: Ill-conditioned matrix (rcond=5.20133e-17): result may not be accurate.\n",
      "  overwrite_a=True).T\n",
      "C:\\Users\\nolan\\Anaconda3\\lib\\site-packages\\sklearn\\linear_model\\ridge.py:147: LinAlgWarning: Ill-conditioned matrix (rcond=5.17406e-17): result may not be accurate.\n",
      "  overwrite_a=True).T\n",
      "C:\\Users\\nolan\\Anaconda3\\lib\\site-packages\\sklearn\\linear_model\\ridge.py:147: LinAlgWarning: Ill-conditioned matrix (rcond=5.17321e-17): result may not be accurate.\n",
      "  overwrite_a=True).T\n",
      "C:\\Users\\nolan\\Anaconda3\\lib\\site-packages\\sklearn\\linear_model\\ridge.py:147: LinAlgWarning: Ill-conditioned matrix (rcond=5.19199e-17): result may not be accurate.\n",
      "  overwrite_a=True).T\n",
      "C:\\Users\\nolan\\Anaconda3\\lib\\site-packages\\sklearn\\linear_model\\ridge.py:147: LinAlgWarning: Ill-conditioned matrix (rcond=5.92874e-17): result may not be accurate.\n",
      "  overwrite_a=True).T\n",
      "C:\\Users\\nolan\\Anaconda3\\lib\\site-packages\\sklearn\\linear_model\\ridge.py:147: LinAlgWarning: Ill-conditioned matrix (rcond=5.91556e-17): result may not be accurate.\n",
      "  overwrite_a=True).T\n",
      "C:\\Users\\nolan\\Anaconda3\\lib\\site-packages\\sklearn\\linear_model\\ridge.py:147: LinAlgWarning: Ill-conditioned matrix (rcond=5.8886e-17): result may not be accurate.\n",
      "  overwrite_a=True).T\n",
      "C:\\Users\\nolan\\Anaconda3\\lib\\site-packages\\sklearn\\linear_model\\ridge.py:147: LinAlgWarning: Ill-conditioned matrix (rcond=5.88783e-17): result may not be accurate.\n",
      "  overwrite_a=True).T\n",
      "C:\\Users\\nolan\\Anaconda3\\lib\\site-packages\\sklearn\\linear_model\\ridge.py:147: LinAlgWarning: Ill-conditioned matrix (rcond=5.90656e-17): result may not be accurate.\n",
      "  overwrite_a=True).T\n",
      "C:\\Users\\nolan\\Anaconda3\\lib\\site-packages\\sklearn\\linear_model\\ridge.py:147: LinAlgWarning: Ill-conditioned matrix (rcond=6.73979e-17): result may not be accurate.\n",
      "  overwrite_a=True).T\n",
      "C:\\Users\\nolan\\Anaconda3\\lib\\site-packages\\sklearn\\linear_model\\ridge.py:147: LinAlgWarning: Ill-conditioned matrix (rcond=6.72381e-17): result may not be accurate.\n",
      "  overwrite_a=True).T\n",
      "C:\\Users\\nolan\\Anaconda3\\lib\\site-packages\\sklearn\\linear_model\\ridge.py:147: LinAlgWarning: Ill-conditioned matrix (rcond=6.69754e-17): result may not be accurate.\n",
      "  overwrite_a=True).T\n",
      "C:\\Users\\nolan\\Anaconda3\\lib\\site-packages\\sklearn\\linear_model\\ridge.py:147: LinAlgWarning: Ill-conditioned matrix (rcond=6.69678e-17): result may not be accurate.\n",
      "  overwrite_a=True).T\n",
      "C:\\Users\\nolan\\Anaconda3\\lib\\site-packages\\sklearn\\linear_model\\ridge.py:147: LinAlgWarning: Ill-conditioned matrix (rcond=6.71531e-17): result may not be accurate.\n",
      "  overwrite_a=True).T\n",
      "C:\\Users\\nolan\\Anaconda3\\lib\\site-packages\\sklearn\\linear_model\\ridge.py:147: LinAlgWarning: Ill-conditioned matrix (rcond=7.65696e-17): result may not be accurate.\n",
      "  overwrite_a=True).T\n",
      "C:\\Users\\nolan\\Anaconda3\\lib\\site-packages\\sklearn\\linear_model\\ridge.py:147: LinAlgWarning: Ill-conditioned matrix (rcond=7.63764e-17): result may not be accurate.\n",
      "  overwrite_a=True).T\n",
      "C:\\Users\\nolan\\Anaconda3\\lib\\site-packages\\sklearn\\linear_model\\ridge.py:147: LinAlgWarning: Ill-conditioned matrix (rcond=7.61247e-17): result may not be accurate.\n",
      "  overwrite_a=True).T\n",
      "C:\\Users\\nolan\\Anaconda3\\lib\\site-packages\\sklearn\\linear_model\\ridge.py:147: LinAlgWarning: Ill-conditioned matrix (rcond=7.61162e-17): result may not be accurate.\n",
      "  overwrite_a=True).T\n",
      "C:\\Users\\nolan\\Anaconda3\\lib\\site-packages\\sklearn\\linear_model\\ridge.py:147: LinAlgWarning: Ill-conditioned matrix (rcond=7.62979e-17): result may not be accurate.\n",
      "  overwrite_a=True).T\n",
      "C:\\Users\\nolan\\Anaconda3\\lib\\site-packages\\sklearn\\linear_model\\ridge.py:147: LinAlgWarning: Ill-conditioned matrix (rcond=8.69327e-17): result may not be accurate.\n",
      "  overwrite_a=True).T\n",
      "C:\\Users\\nolan\\Anaconda3\\lib\\site-packages\\sklearn\\linear_model\\ridge.py:147: LinAlgWarning: Ill-conditioned matrix (rcond=8.66999e-17): result may not be accurate.\n",
      "  overwrite_a=True).T\n",
      "C:\\Users\\nolan\\Anaconda3\\lib\\site-packages\\sklearn\\linear_model\\ridge.py:147: LinAlgWarning: Ill-conditioned matrix (rcond=8.64637e-17): result may not be accurate.\n",
      "  overwrite_a=True).T\n",
      "C:\\Users\\nolan\\Anaconda3\\lib\\site-packages\\sklearn\\linear_model\\ridge.py:147: LinAlgWarning: Ill-conditioned matrix (rcond=8.64533e-17): result may not be accurate.\n",
      "  overwrite_a=True).T\n",
      "C:\\Users\\nolan\\Anaconda3\\lib\\site-packages\\sklearn\\linear_model\\ridge.py:147: LinAlgWarning: Ill-conditioned matrix (rcond=8.66297e-17): result may not be accurate.\n",
      "  overwrite_a=True).T\n",
      "C:\\Users\\nolan\\Anaconda3\\lib\\site-packages\\sklearn\\linear_model\\ridge.py:147: LinAlgWarning: Ill-conditioned matrix (rcond=9.86329e-17): result may not be accurate.\n",
      "  overwrite_a=True).T\n",
      "C:\\Users\\nolan\\Anaconda3\\lib\\site-packages\\sklearn\\linear_model\\ridge.py:147: LinAlgWarning: Ill-conditioned matrix (rcond=9.83534e-17): result may not be accurate.\n",
      "  overwrite_a=True).T\n",
      "C:\\Users\\nolan\\Anaconda3\\lib\\site-packages\\sklearn\\linear_model\\ridge.py:147: LinAlgWarning: Ill-conditioned matrix (rcond=9.81381e-17): result may not be accurate.\n",
      "  overwrite_a=True).T\n",
      "C:\\Users\\nolan\\Anaconda3\\lib\\site-packages\\sklearn\\linear_model\\ridge.py:147: LinAlgWarning: Ill-conditioned matrix (rcond=9.8124e-17): result may not be accurate.\n",
      "  overwrite_a=True).T\n",
      "C:\\Users\\nolan\\Anaconda3\\lib\\site-packages\\sklearn\\linear_model\\ridge.py:147: LinAlgWarning: Ill-conditioned matrix (rcond=9.82935e-17): result may not be accurate.\n",
      "  overwrite_a=True).T\n"
     ]
    },
    {
     "name": "stderr",
     "output_type": "stream",
     "text": [
      "C:\\Users\\nolan\\Anaconda3\\lib\\site-packages\\sklearn\\linear_model\\ridge.py:147: LinAlgWarning: Ill-conditioned matrix (rcond=1.51452e-19): result may not be accurate.\n",
      "  overwrite_a=True).T\n"
     ]
    },
    {
     "data": {
      "text/plain": [
       "RidgeCV(alphas=array([1.00000000e+00, 1.12332403e+00, 1.26185688e+00, 1.41747416e+00,\n",
       "       1.59228279e+00, 1.78864953e+00, 2.00923300e+00, 2.25701972e+00,\n",
       "       2.53536449e+00, 2.84803587e+00, 3.19926714e+00, 3.59381366e+00,\n",
       "       4.03701726e+00, 4.53487851e+00, 5.09413801e+00, 5.72236766e+00,\n",
       "       6.42807312e+00, 7.22080902e+00, 8.11130831e+00, 9.11162756e+00,\n",
       "       1.02353102e+01, 1.14975700e+0...\n",
       "       1.09749877e+04, 1.23284674e+04, 1.38488637e+04, 1.55567614e+04,\n",
       "       1.74752840e+04, 1.96304065e+04, 2.20513074e+04, 2.47707636e+04,\n",
       "       2.78255940e+04, 3.12571585e+04, 3.51119173e+04, 3.94420606e+04,\n",
       "       4.43062146e+04, 4.97702356e+04, 5.59081018e+04, 6.28029144e+04,\n",
       "       7.05480231e+04, 7.92482898e+04, 8.90215085e+04, 1.00000000e+05]),\n",
       "        cv=5, fit_intercept=True, gcv_mode=None, normalize=False, scoring='r2',\n",
       "        store_cv_values=False)"
      ]
     },
     "execution_count": 145,
     "metadata": {},
     "output_type": "execute_result"
    }
   ],
   "source": [
    "ridge_cv.fit(X_train, y_train)"
   ]
  },
  {
   "cell_type": "code",
   "execution_count": 146,
   "metadata": {},
   "outputs": [
    {
     "data": {
      "text/plain": [
       "array([-5.77675912e+02, -1.13166617e+04, -2.13360018e+04, -2.55212891e+04,\n",
       "       -1.76978947e+04,  8.90079463e+03, -1.23343874e+03,  1.44193692e+04,\n",
       "        6.38271594e+00,  6.97174025e+01,  2.53739277e+01,  2.73726647e+01,\n",
       "        2.02514176e+01, -1.82724574e+03,  7.49661998e+01,  2.42027927e+02,\n",
       "       -6.50024324e+01,  7.92652867e+03,  2.69525112e+03,  5.15561577e+03,\n",
       "        9.32961123e+03,  1.89343568e+01, -9.51966877e+00,  6.27841202e+01,\n",
       "       -4.16279755e+02, -2.33540996e+02, -6.57978930e+03,  3.75699156e+03,\n",
       "        1.12922416e+02,  1.78681351e-05, -2.65424840e+02,  5.25968910e+03,\n",
       "        4.37201857e+03,  5.47134844e+03, -4.80136514e+03,  4.73287479e+03,\n",
       "        2.47172199e+03,  9.34498124e+03,  2.88335572e+04,  4.05508004e+03,\n",
       "       -1.37637860e+03,  3.25465494e+03,  1.23876991e+04,  1.07604992e+01,\n",
       "        2.86201358e+03,  5.02505081e+00, -8.14825055e+00, -3.10607998e+03,\n",
       "        6.96885163e+03, -1.35840319e+04, -1.20163203e+04,  4.21624115e+03,\n",
       "        2.96182182e+04,  1.99627278e+04, -8.06650213e+03, -2.00292500e+04,\n",
       "        2.64490753e+04, -6.43367593e+02])"
      ]
     },
     "execution_count": 146,
     "metadata": {},
     "output_type": "execute_result"
    }
   ],
   "source": [
    "ridge_cv.coef_"
   ]
  },
  {
   "cell_type": "code",
   "execution_count": 147,
   "metadata": {},
   "outputs": [
    {
     "data": {
      "text/plain": [
       "4.0370172585965545"
      ]
     },
     "execution_count": 147,
     "metadata": {},
     "output_type": "execute_result"
    }
   ],
   "source": [
    "ridge_cv.alpha_"
   ]
  },
  {
   "cell_type": "code",
   "execution_count": 148,
   "metadata": {},
   "outputs": [
    {
     "data": {
      "text/plain": [
       "0.8803152585720635"
      ]
     },
     "execution_count": 148,
     "metadata": {},
     "output_type": "execute_result"
    }
   ],
   "source": [
    "ridge_cv.score(X_train, y_train)"
   ]
  },
  {
   "cell_type": "code",
   "execution_count": 149,
   "metadata": {},
   "outputs": [
    {
     "data": {
      "text/plain": [
       "0.8394087309927591"
      ]
     },
     "execution_count": 149,
     "metadata": {},
     "output_type": "execute_result"
    }
   ],
   "source": [
    "ridge_cv.score(X_test, y_test)"
   ]
  },
  {
   "cell_type": "code",
   "execution_count": null,
   "metadata": {},
   "outputs": [],
   "source": []
  },
  {
   "cell_type": "markdown",
   "metadata": {},
   "source": [
    "### Lasso"
   ]
  },
  {
   "cell_type": "code",
   "execution_count": 150,
   "metadata": {},
   "outputs": [
    {
     "data": {
      "text/plain": [
       "LassoCV(alphas=array([1.00000000e+00, 1.26185688e+00, 1.59228279e+00, 2.00923300e+00,\n",
       "       2.53536449e+00, 3.19926714e+00, 4.03701726e+00, 5.09413801e+00,\n",
       "       6.42807312e+00, 8.11130831e+00, 1.02353102e+01, 1.29154967e+01,\n",
       "       1.62975083e+01, 2.05651231e+01, 2.59502421e+01, 3.27454916e+01,\n",
       "       4.13201240e+01, 5.21400829e+01, 6.57933225e+01, 8.30217568e+01,\n",
       "       1.04761575e+02, 1.32194115e+0...\n",
       "       7.74263683e+08, 9.77009957e+08, 1.23284674e+09, 1.55567614e+09,\n",
       "       1.96304065e+09, 2.47707636e+09, 3.12571585e+09, 3.94420606e+09,\n",
       "       4.97702356e+09, 6.28029144e+09, 7.92482898e+09, 1.00000000e+10]),\n",
       "        copy_X=True, cv=5, eps=0.001, fit_intercept=True, max_iter=1000,\n",
       "        n_alphas=100, n_jobs=None, normalize=False, positive=False,\n",
       "        precompute='auto', random_state=None, selection='cyclic', tol=0.0001,\n",
       "        verbose=False)"
      ]
     },
     "execution_count": 150,
     "metadata": {},
     "output_type": "execute_result"
    }
   ],
   "source": [
    "i_alphas = np.logspace(0, 10, 100)\n",
    "lasso = LassoCV(alphas=i_alphas, cv=5)\n",
    "lasso.fit(X_train, y_train)"
   ]
  },
  {
   "cell_type": "code",
   "execution_count": 151,
   "metadata": {},
   "outputs": [
    {
     "name": "stdout",
     "output_type": "stream",
     "text": [
      "0.8806190529315662\n",
      "0.8401968207966957\n"
     ]
    }
   ],
   "source": [
    "print(lasso.score(X_train, y_train))\n",
    "print(lasso.score(X_test, y_test))"
   ]
  },
  {
   "cell_type": "code",
   "execution_count": 152,
   "metadata": {},
   "outputs": [
    {
     "data": {
      "text/plain": [
       "array([-9.77600517e+02, -1.25480654e+04, -2.27476913e+04, -2.71451875e+04,\n",
       "       -1.97972689e+04,  9.24800583e+03, -8.22035791e+02,  1.45225520e+04,\n",
       "        6.17533961e+00,  7.04924085e+01,  2.54103883e+01,  2.73277332e+01,\n",
       "        2.01513773e+01, -1.73743590e+03,  7.37433990e+01,  2.42621998e+02,\n",
       "       -6.96951241e+01,  7.87506401e+03,  2.74046553e+03,  5.13173358e+03,\n",
       "        9.49906607e+03,  1.87191269e+01, -8.93684959e+00,  6.23816505e+01,\n",
       "       -0.00000000e+00,  9.78343880e+01, -6.23860420e+03,  3.41702140e+03,\n",
       "       -0.00000000e+00,  1.93486418e-05, -0.00000000e+00,  5.49271013e+03,\n",
       "        4.31070053e+03,  5.20290757e+03, -4.44663031e+03,  4.28708377e+03,\n",
       "        2.23322581e+03,  8.54586079e+03,  3.10657988e+04,  5.76003123e+03,\n",
       "        0.00000000e+00,  2.79073261e+03,  1.07246149e+04,  1.02188335e+01,\n",
       "        2.45587699e+03,  4.12426112e+00, -9.25713490e+00, -3.03568262e+03,\n",
       "        7.04175996e+03, -1.41350708e+04, -1.23002174e+04,  4.83492080e+03,\n",
       "        3.35355993e+04,  2.14170116e+04, -8.49633241e+03, -2.32148758e+04,\n",
       "        3.00233130e+04, -2.74358493e+02])"
      ]
     },
     "execution_count": 152,
     "metadata": {},
     "output_type": "execute_result"
    }
   ],
   "source": [
    "lasso.coef_"
   ]
  },
  {
   "cell_type": "code",
   "execution_count": null,
   "metadata": {},
   "outputs": [],
   "source": []
  },
  {
   "cell_type": "markdown",
   "metadata": {},
   "source": [
    "# DO NOT DELETE BELOW HERE"
   ]
  },
  {
   "cell_type": "code",
   "execution_count": 153,
   "metadata": {},
   "outputs": [],
   "source": [
    "Xtest = test[xvariances]\n",
    "preds = lasso.predict(Xtest)"
   ]
  },
  {
   "cell_type": "code",
   "execution_count": 154,
   "metadata": {},
   "outputs": [],
   "source": [
    "submission = pd.DataFrame(test['Id'])\n",
    "submission['SalePrice'] = preds\n",
    "submission.to_csv('./datasets/submission.csv', index=False)"
   ]
  },
  {
   "cell_type": "markdown",
   "metadata": {},
   "source": [
    "# RUN ABOVE LINE ONLY TO CREATE SUBMISION"
   ]
  },
  {
   "cell_type": "code",
   "execution_count": 155,
   "metadata": {},
   "outputs": [
    {
     "data": {
      "text/html": [
       "<div>\n",
       "<style scoped>\n",
       "    .dataframe tbody tr th:only-of-type {\n",
       "        vertical-align: middle;\n",
       "    }\n",
       "\n",
       "    .dataframe tbody tr th {\n",
       "        vertical-align: top;\n",
       "    }\n",
       "\n",
       "    .dataframe thead th {\n",
       "        text-align: right;\n",
       "    }\n",
       "</style>\n",
       "<table border=\"1\" class=\"dataframe\">\n",
       "  <thead>\n",
       "    <tr style=\"text-align: right;\">\n",
       "      <th></th>\n",
       "      <th>Id</th>\n",
       "      <th>SalePrice</th>\n",
       "    </tr>\n",
       "  </thead>\n",
       "  <tbody>\n",
       "    <tr>\n",
       "      <td>0</td>\n",
       "      <td>2658</td>\n",
       "      <td>131246.948629</td>\n",
       "    </tr>\n",
       "    <tr>\n",
       "      <td>1</td>\n",
       "      <td>2718</td>\n",
       "      <td>180861.653370</td>\n",
       "    </tr>\n",
       "    <tr>\n",
       "      <td>2</td>\n",
       "      <td>2414</td>\n",
       "      <td>213742.320788</td>\n",
       "    </tr>\n",
       "    <tr>\n",
       "      <td>3</td>\n",
       "      <td>1989</td>\n",
       "      <td>119272.926988</td>\n",
       "    </tr>\n",
       "    <tr>\n",
       "      <td>4</td>\n",
       "      <td>625</td>\n",
       "      <td>184181.809329</td>\n",
       "    </tr>\n",
       "  </tbody>\n",
       "</table>\n",
       "</div>"
      ],
      "text/plain": [
       "     Id      SalePrice\n",
       "0  2658  131246.948629\n",
       "1  2718  180861.653370\n",
       "2  2414  213742.320788\n",
       "3  1989  119272.926988\n",
       "4   625  184181.809329"
      ]
     },
     "execution_count": 155,
     "metadata": {},
     "output_type": "execute_result"
    }
   ],
   "source": [
    "submission.head()"
   ]
  },
  {
   "cell_type": "code",
   "execution_count": null,
   "metadata": {},
   "outputs": [],
   "source": []
  }
 ],
 "metadata": {
  "kernelspec": {
   "display_name": "Python 3",
   "language": "python",
   "name": "python3"
  },
  "language_info": {
   "codemirror_mode": {
    "name": "ipython",
    "version": 3
   },
   "file_extension": ".py",
   "mimetype": "text/x-python",
   "name": "python",
   "nbconvert_exporter": "python",
   "pygments_lexer": "ipython3",
   "version": "3.7.3"
  }
 },
 "nbformat": 4,
 "nbformat_minor": 2
}
